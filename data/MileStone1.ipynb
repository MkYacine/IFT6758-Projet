{
 "cells": [
  {
   "cell_type": "code",
   "execution_count": 1,
   "id": "da4a9e86",
   "metadata": {},
   "outputs": [],
   "source": [
    "import ipywidgets as widgets\n",
    "import matplotlib.pyplot as plt\n",
    "from scrape import scrape_multiple_years"
   ]
  },
  {
   "cell_type": "code",
   "execution_count": 2,
   "id": "de982c61",
   "metadata": {
    "scrolled": true
   },
   "outputs": [],
   "source": [
    "L = ['2016', '2017']\n",
    "df = scrape_multiple_years(L)"
   ]
  },
  {
   "cell_type": "code",
   "execution_count": 9,
   "id": "ee31498b",
   "metadata": {},
   "outputs": [
    {
     "data": {
      "text/html": [
       "<div>\n",
       "<style scoped>\n",
       "    .dataframe tbody tr th:only-of-type {\n",
       "        vertical-align: middle;\n",
       "    }\n",
       "\n",
       "    .dataframe tbody tr th {\n",
       "        vertical-align: top;\n",
       "    }\n",
       "\n",
       "    .dataframe thead th {\n",
       "        text-align: right;\n",
       "    }\n",
       "</style>\n",
       "<table border=\"1\" class=\"dataframe\">\n",
       "  <thead>\n",
       "    <tr style=\"text-align: right;\">\n",
       "      <th></th>\n",
       "      <th>copyright</th>\n",
       "      <th>gamePk</th>\n",
       "      <th>link</th>\n",
       "      <th>metaData</th>\n",
       "      <th>gameData</th>\n",
       "      <th>liveData</th>\n",
       "    </tr>\n",
       "  </thead>\n",
       "  <tbody>\n",
       "    <tr>\n",
       "      <th>876</th>\n",
       "      <td>NHL and the NHL Shield are registered trademar...</td>\n",
       "      <td>2016020877</td>\n",
       "      <td>/api/v1/game/2016020877/feed/live</td>\n",
       "      <td>{'wait': 10, 'timeStamp': '20170920_091048'}</td>\n",
       "      <td>{'game': {'pk': 2016020877, 'season': '2016201...</td>\n",
       "      <td>{'plays': {'allPlays': [{'result': {'event': '...</td>\n",
       "    </tr>\n",
       "    <tr>\n",
       "      <th>1028</th>\n",
       "      <td>NHL and the NHL Shield are registered trademar...</td>\n",
       "      <td>2016021029</td>\n",
       "      <td>/api/v1/game/2016021029/feed/live</td>\n",
       "      <td>{'wait': 10, 'timeStamp': '20170920_091700'}</td>\n",
       "      <td>{'game': {'pk': 2016021029, 'season': '2016201...</td>\n",
       "      <td>{'plays': {'allPlays': [{'result': {'event': '...</td>\n",
       "    </tr>\n",
       "    <tr>\n",
       "      <th>2154</th>\n",
       "      <td>NHL and the NHL Shield are registered trademar...</td>\n",
       "      <td>2017020823</td>\n",
       "      <td>/api/v1/game/2017020823/feed/live</td>\n",
       "      <td>{'wait': 10, 'timeStamp': '20180211_051110'}</td>\n",
       "      <td>{'game': {'pk': 2017020823, 'season': '2017201...</td>\n",
       "      <td>{'plays': {'allPlays': [{'result': {'event': '...</td>\n",
       "    </tr>\n",
       "    <tr>\n",
       "      <th>637</th>\n",
       "      <td>NHL and the NHL Shield are registered trademar...</td>\n",
       "      <td>2016020638</td>\n",
       "      <td>/api/v1/game/2016020638/feed/live</td>\n",
       "      <td>{'wait': 10, 'timeStamp': '20170920_090025'}</td>\n",
       "      <td>{'game': {'pk': 2016020638, 'season': '2016201...</td>\n",
       "      <td>{'plays': {'allPlays': [{'result': {'event': '...</td>\n",
       "    </tr>\n",
       "    <tr>\n",
       "      <th>143</th>\n",
       "      <td>NHL and the NHL Shield are registered trademar...</td>\n",
       "      <td>2016020144</td>\n",
       "      <td>/api/v1/game/2016020144/feed/live</td>\n",
       "      <td>{'wait': 10, 'timeStamp': '20170920_084034'}</td>\n",
       "      <td>{'game': {'pk': 2016020144, 'season': '2016201...</td>\n",
       "      <td>{'plays': {'allPlays': [{'result': {'event': '...</td>\n",
       "    </tr>\n",
       "  </tbody>\n",
       "</table>\n",
       "</div>"
      ],
      "text/plain": [
       "                                              copyright      gamePk  \\\n",
       "876   NHL and the NHL Shield are registered trademar...  2016020877   \n",
       "1028  NHL and the NHL Shield are registered trademar...  2016021029   \n",
       "2154  NHL and the NHL Shield are registered trademar...  2017020823   \n",
       "637   NHL and the NHL Shield are registered trademar...  2016020638   \n",
       "143   NHL and the NHL Shield are registered trademar...  2016020144   \n",
       "\n",
       "                                   link  \\\n",
       "876   /api/v1/game/2016020877/feed/live   \n",
       "1028  /api/v1/game/2016021029/feed/live   \n",
       "2154  /api/v1/game/2017020823/feed/live   \n",
       "637   /api/v1/game/2016020638/feed/live   \n",
       "143   /api/v1/game/2016020144/feed/live   \n",
       "\n",
       "                                          metaData  \\\n",
       "876   {'wait': 10, 'timeStamp': '20170920_091048'}   \n",
       "1028  {'wait': 10, 'timeStamp': '20170920_091700'}   \n",
       "2154  {'wait': 10, 'timeStamp': '20180211_051110'}   \n",
       "637   {'wait': 10, 'timeStamp': '20170920_090025'}   \n",
       "143   {'wait': 10, 'timeStamp': '20170920_084034'}   \n",
       "\n",
       "                                               gameData  \\\n",
       "876   {'game': {'pk': 2016020877, 'season': '2016201...   \n",
       "1028  {'game': {'pk': 2016021029, 'season': '2016201...   \n",
       "2154  {'game': {'pk': 2017020823, 'season': '2017201...   \n",
       "637   {'game': {'pk': 2016020638, 'season': '2016201...   \n",
       "143   {'game': {'pk': 2016020144, 'season': '2016201...   \n",
       "\n",
       "                                               liveData  \n",
       "876   {'plays': {'allPlays': [{'result': {'event': '...  \n",
       "1028  {'plays': {'allPlays': [{'result': {'event': '...  \n",
       "2154  {'plays': {'allPlays': [{'result': {'event': '...  \n",
       "637   {'plays': {'allPlays': [{'result': {'event': '...  \n",
       "143   {'plays': {'allPlays': [{'result': {'event': '...  "
      ]
     },
     "execution_count": 9,
     "metadata": {},
     "output_type": "execute_result"
    }
   ],
   "source": [
    "df.sample(5)"
   ]
  },
  {
   "cell_type": "code",
   "execution_count": 11,
   "id": "92509623",
   "metadata": {},
   "outputs": [],
   "source": [
    "import matplotlib.image as image\n",
    "file = './img/terrain_hockey.png'\n",
    "logo = image.imread(file)"
   ]
  },
  {
   "cell_type": "code",
   "execution_count": 12,
   "id": "98a86479",
   "metadata": {},
   "outputs": [
    {
     "data": {
      "application/vnd.jupyter.widget-view+json": {
       "model_id": "057149371f904a779694ad7f4984e3e4",
       "version_major": 2,
       "version_minor": 0
      },
      "text/plain": [
       "interactive(children=(IntSlider(value=1, description='gameId', max=2708, min=1), Output()), _dom_classes=('wid…"
      ]
     },
     "metadata": {},
     "output_type": "display_data"
    }
   ],
   "source": [
    "@widgets.interact(gameId=(1, df.shape[0]))\n",
    "def gameId_plays(gameId=1):\n",
    "    \n",
    "    print(f\"{df['gameData'][gameId]['datetime']}\\n\")\n",
    "    print(f\"Game ID: {gameId}; {df['gameData'][gameId]['teams']['home']['name']} (home) vs {df['gameData'][gameId]['teams']['away']['name']} (away)\\n\")\n",
    "\n",
    "    try:\n",
    "\n",
    "        @widgets.interact(plays_num=(1, len(df['liveData'][gameId]['plays']['allPlays']) - 1))\n",
    "        def data_game(plays_num=1):\n",
    "            \n",
    "            plt.imshow(logo, extent=[-100, 100, -42.5, 42.5])\n",
    "            try:\n",
    "                x = df['liveData'][gameId]['plays']['allPlays'][plays_num]['coordinates']['x']\n",
    "                y = df['liveData'][gameId]['plays']['allPlays'][plays_num]['coordinates']['y']\n",
    "                \n",
    "                plt.xlim(-100, 100)\n",
    "                plt.ylim(-42.5, 42.5)\n",
    "                plt.scatter(x, y, c='green')\n",
    "                \n",
    "                props = dict(boxstyle='round', facecolor='green', alpha=0.6)\n",
    "\n",
    "                plt.text(x - 10, y + 10, df['liveData'][gameId]['plays']['allPlays'][plays_num]['result']['eventTypeId'], fontsize=10, \n",
    "                        verticalalignment='top', bbox=props)\n",
    "\n",
    "            except:\n",
    "                pass\n",
    "\n",
    "            print(df['liveData'][gameId]['plays']['allPlays'][plays_num])\n",
    "\n",
    "            print(f\"\\n Description of event: {df['liveData'][gameId]['plays']['allPlays'][plays_num]['result']['description']}\")\n",
    "        \n",
    "    except:\n",
    "        print(f'Game Id {gameId} is not correct')"
   ]
  },
  {
   "cell_type": "code",
   "execution_count": null,
   "id": "bfe82d16",
   "metadata": {},
   "outputs": [],
   "source": []
  },
  {
   "cell_type": "code",
   "execution_count": null,
   "id": "332d3949-0d2d-4c37-aaf0-5b53c8a87c25",
   "metadata": {},
   "outputs": [],
   "source": []
  }
 ],
 "metadata": {
  "kernelspec": {
   "display_name": "Python 3 (ipykernel)",
   "language": "python",
   "name": "python3"
  },
  "language_info": {
   "codemirror_mode": {
    "name": "ipython",
    "version": 3
   },
   "file_extension": ".py",
   "mimetype": "text/x-python",
   "name": "python",
   "nbconvert_exporter": "python",
   "pygments_lexer": "ipython3",
   "version": "3.9.18"
  }
 },
 "nbformat": 4,
 "nbformat_minor": 5
}
