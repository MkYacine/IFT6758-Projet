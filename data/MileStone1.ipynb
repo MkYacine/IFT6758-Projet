{
 "cells": [
  {
   "cell_type": "code",
   "execution_count": 1,
   "id": "da4a9e86",
   "metadata": {},
   "outputs": [],
   "source": [
    "import ipywidgets as widgets\n",
    "import matplotlib.pyplot as plt\n",
    "from scrape import scrape_multiple_years"
   ]
  },
  {
   "cell_type": "code",
   "execution_count": 3,
   "id": "de982c61",
   "metadata": {
    "scrolled": true
   },
   "outputs": [
    {
     "name": "stdout",
     "output_type": "stream",
     "text": [
      "Data doesn't exist in cache, scraping data for the years 2016 to 2017\n"
     ]
    }
   ],
   "source": [
    "L = ['2016', '2017']\n",
    "df = scrape_multiple_years(L, './datasets')"
   ]
  },
  {
   "cell_type": "code",
   "execution_count": 7,
   "id": "ee31498b",
   "metadata": {
    "scrolled": true
   },
   "outputs": [
    {
     "data": {
      "text/html": [
       "<div>\n",
       "<style scoped>\n",
       "    .dataframe tbody tr th:only-of-type {\n",
       "        vertical-align: middle;\n",
       "    }\n",
       "\n",
       "    .dataframe tbody tr th {\n",
       "        vertical-align: top;\n",
       "    }\n",
       "\n",
       "    .dataframe thead th {\n",
       "        text-align: right;\n",
       "    }\n",
       "</style>\n",
       "<table border=\"1\" class=\"dataframe\">\n",
       "  <thead>\n",
       "    <tr style=\"text-align: right;\">\n",
       "      <th></th>\n",
       "      <th>copyright</th>\n",
       "      <th>gamePk</th>\n",
       "      <th>link</th>\n",
       "      <th>metaData</th>\n",
       "      <th>gameData</th>\n",
       "      <th>liveData</th>\n",
       "    </tr>\n",
       "  </thead>\n",
       "  <tbody>\n",
       "    <tr>\n",
       "      <th>1647</th>\n",
       "      <td>NHL and the NHL Shield are registered trademar...</td>\n",
       "      <td>2017020316</td>\n",
       "      <td>/api/v1/game/2017020316/feed/live</td>\n",
       "      <td>{'wait': 10, 'timeStamp': '20171125_071608'}</td>\n",
       "      <td>{'game': {'pk': 2017020316, 'season': '2017201...</td>\n",
       "      <td>{'plays': {'allPlays': [{'result': {'event': '...</td>\n",
       "    </tr>\n",
       "    <tr>\n",
       "      <th>2070</th>\n",
       "      <td>NHL and the NHL Shield are registered trademar...</td>\n",
       "      <td>2017020739</td>\n",
       "      <td>/api/v1/game/2017020739/feed/live</td>\n",
       "      <td>{'wait': 10, 'timeStamp': '20180127_080920'}</td>\n",
       "      <td>{'game': {'pk': 2017020739, 'season': '2017201...</td>\n",
       "      <td>{'plays': {'allPlays': [{'result': {'event': '...</td>\n",
       "    </tr>\n",
       "    <tr>\n",
       "      <th>2238</th>\n",
       "      <td>NHL and the NHL Shield are registered trademar...</td>\n",
       "      <td>2017020907</td>\n",
       "      <td>/api/v1/game/2017020907/feed/live</td>\n",
       "      <td>{'wait': 10, 'timeStamp': '20180222_225440'}</td>\n",
       "      <td>{'game': {'pk': 2017020907, 'season': '2017201...</td>\n",
       "      <td>{'plays': {'allPlays': [{'result': {'event': '...</td>\n",
       "    </tr>\n",
       "    <tr>\n",
       "      <th>591</th>\n",
       "      <td>NHL and the NHL Shield are registered trademar...</td>\n",
       "      <td>2016020592</td>\n",
       "      <td>/api/v1/game/2016020592/feed/live</td>\n",
       "      <td>{'wait': 10, 'timeStamp': '20170920_085828'}</td>\n",
       "      <td>{'game': {'pk': 2016020592, 'season': '2016201...</td>\n",
       "      <td>{'plays': {'allPlays': [{'result': {'event': '...</td>\n",
       "    </tr>\n",
       "    <tr>\n",
       "      <th>2087</th>\n",
       "      <td>NHL and the NHL Shield are registered trademar...</td>\n",
       "      <td>2017020756</td>\n",
       "      <td>/api/v1/game/2017020756/feed/live</td>\n",
       "      <td>{'wait': 10, 'timeStamp': '20180129_160855'}</td>\n",
       "      <td>{'game': {'pk': 2017020756, 'season': '2017201...</td>\n",
       "      <td>{'plays': {'allPlays': [{'result': {'event': '...</td>\n",
       "    </tr>\n",
       "  </tbody>\n",
       "</table>\n",
       "</div>"
      ],
      "text/plain": [
       "                                              copyright      gamePk  \\\n",
       "1647  NHL and the NHL Shield are registered trademar...  2017020316   \n",
       "2070  NHL and the NHL Shield are registered trademar...  2017020739   \n",
       "2238  NHL and the NHL Shield are registered trademar...  2017020907   \n",
       "591   NHL and the NHL Shield are registered trademar...  2016020592   \n",
       "2087  NHL and the NHL Shield are registered trademar...  2017020756   \n",
       "\n",
       "                                   link  \\\n",
       "1647  /api/v1/game/2017020316/feed/live   \n",
       "2070  /api/v1/game/2017020739/feed/live   \n",
       "2238  /api/v1/game/2017020907/feed/live   \n",
       "591   /api/v1/game/2016020592/feed/live   \n",
       "2087  /api/v1/game/2017020756/feed/live   \n",
       "\n",
       "                                          metaData  \\\n",
       "1647  {'wait': 10, 'timeStamp': '20171125_071608'}   \n",
       "2070  {'wait': 10, 'timeStamp': '20180127_080920'}   \n",
       "2238  {'wait': 10, 'timeStamp': '20180222_225440'}   \n",
       "591   {'wait': 10, 'timeStamp': '20170920_085828'}   \n",
       "2087  {'wait': 10, 'timeStamp': '20180129_160855'}   \n",
       "\n",
       "                                               gameData  \\\n",
       "1647  {'game': {'pk': 2017020316, 'season': '2017201...   \n",
       "2070  {'game': {'pk': 2017020739, 'season': '2017201...   \n",
       "2238  {'game': {'pk': 2017020907, 'season': '2017201...   \n",
       "591   {'game': {'pk': 2016020592, 'season': '2016201...   \n",
       "2087  {'game': {'pk': 2017020756, 'season': '2017201...   \n",
       "\n",
       "                                               liveData  \n",
       "1647  {'plays': {'allPlays': [{'result': {'event': '...  \n",
       "2070  {'plays': {'allPlays': [{'result': {'event': '...  \n",
       "2238  {'plays': {'allPlays': [{'result': {'event': '...  \n",
       "591   {'plays': {'allPlays': [{'result': {'event': '...  \n",
       "2087  {'plays': {'allPlays': [{'result': {'event': '...  "
      ]
     },
     "execution_count": 7,
     "metadata": {},
     "output_type": "execute_result"
    }
   ],
   "source": [
    "df.sample(5)"
   ]
  },
  {
   "cell_type": "code",
   "execution_count": 5,
   "id": "92509623",
   "metadata": {},
   "outputs": [],
   "source": [
    "import matplotlib.image as image\n",
    "file = './img/terrain_hockey.png'\n",
    "logo = image.imread(file)"
   ]
  },
  {
   "cell_type": "code",
   "execution_count": 6,
   "id": "98a86479",
   "metadata": {},
   "outputs": [
    {
     "data": {
      "application/vnd.jupyter.widget-view+json": {
       "model_id": "37a9851f53a847b681b997765e875b32",
       "version_major": 2,
       "version_minor": 0
      },
      "text/plain": [
       "interactive(children=(IntSlider(value=1, description='gameId', max=2708, min=1), Output()), _dom_classes=('wid…"
      ]
     },
     "metadata": {},
     "output_type": "display_data"
    }
   ],
   "source": [
    "@widgets.interact(gameId=(1, df.shape[0]))\n",
    "def gameId_plays(gameId=1):\n",
    "    \n",
    "    print(f\"{df['gameData'][gameId]['datetime']}\\n\")\n",
    "    print(f\"Game ID: {gameId}; {df['gameData'][gameId]['teams']['home']['name']} (home) vs {df['gameData'][gameId]['teams']['away']['name']} (away)\\n\")\n",
    "\n",
    "    try:\n",
    "\n",
    "        @widgets.interact(plays_num=(1, len(df['liveData'][gameId]['plays']['allPlays']) - 1))\n",
    "        def data_game(plays_num=1):\n",
    "            \n",
    "            plt.imshow(logo, extent=[-100, 100, -42.5, 42.5])\n",
    "            try:\n",
    "                x = df['liveData'][gameId]['plays']['allPlays'][plays_num]['coordinates']['x']\n",
    "                y = df['liveData'][gameId]['plays']['allPlays'][plays_num]['coordinates']['y']\n",
    "                \n",
    "                plt.xlim(-100, 100)\n",
    "                plt.ylim(-42.5, 42.5)\n",
    "                plt.scatter(x, y, c='green')\n",
    "                \n",
    "                props = dict(boxstyle='round', facecolor='green', alpha=0.6)\n",
    "\n",
    "                plt.text(x - 10, y + 10, df['liveData'][gameId]['plays']['allPlays'][plays_num]['result']['eventTypeId'], fontsize=10, \n",
    "                        verticalalignment='top', bbox=props)\n",
    "\n",
    "            except:\n",
    "                pass\n",
    "\n",
    "            print(df['liveData'][gameId]['plays']['allPlays'][plays_num])\n",
    "\n",
    "            print(f\"\\n Description of event: {df['liveData'][gameId]['plays']['allPlays'][plays_num]['result']['description']}\")\n",
    "        \n",
    "    except:\n",
    "        print(f'Game Id {gameId} is not correct')"
   ]
  },
  {
   "cell_type": "code",
   "execution_count": null,
   "id": "332d3949-0d2d-4c37-aaf0-5b53c8a87c25",
   "metadata": {},
   "outputs": [],
   "source": []
  }
 ],
 "metadata": {
  "kernelspec": {
   "display_name": "Python 3 (ipykernel)",
   "language": "python",
   "name": "python3"
  },
  "language_info": {
   "codemirror_mode": {
    "name": "ipython",
    "version": 3
   },
   "file_extension": ".py",
   "mimetype": "text/x-python",
   "name": "python",
   "nbconvert_exporter": "python",
   "pygments_lexer": "ipython3",
   "version": "3.9.18"
  }
 },
 "nbformat": 4,
 "nbformat_minor": 5
}
