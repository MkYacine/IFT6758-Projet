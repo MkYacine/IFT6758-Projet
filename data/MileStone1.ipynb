{
 "cells": [
  {
   "cell_type": "code",
   "execution_count": 1,
   "id": "da4a9e86",
   "metadata": {},
   "outputs": [],
   "source": [
    "import ipywidgets as widgets\n",
    "import matplotlib.pyplot as plt\n",
    "from scrape import scrape_multiple_years"
   ]
  },
  {
   "cell_type": "code",
   "execution_count": 2,
   "id": "de982c61",
   "metadata": {
    "scrolled": true
   },
   "outputs": [],
   "source": [
    "L = ['2016', '2017']\n",
    "df = scrape_multiple_years(L)"
   ]
  },
  {
   "cell_type": "code",
   "execution_count": 6,
   "id": "ee31498b",
   "metadata": {},
   "outputs": [
    {
     "data": {
      "text/html": [
       "<div>\n",
       "<style scoped>\n",
       "    .dataframe tbody tr th:only-of-type {\n",
       "        vertical-align: middle;\n",
       "    }\n",
       "\n",
       "    .dataframe tbody tr th {\n",
       "        vertical-align: top;\n",
       "    }\n",
       "\n",
       "    .dataframe thead th {\n",
       "        text-align: right;\n",
       "    }\n",
       "</style>\n",
       "<table border=\"1\" class=\"dataframe\">\n",
       "  <thead>\n",
       "    <tr style=\"text-align: right;\">\n",
       "      <th></th>\n",
       "      <th>copyright</th>\n",
       "      <th>gamePk</th>\n",
       "      <th>link</th>\n",
       "      <th>metaData</th>\n",
       "      <th>gameData</th>\n",
       "      <th>liveData</th>\n",
       "    </tr>\n",
       "  </thead>\n",
       "  <tbody>\n",
       "    <tr>\n",
       "      <th>2118</th>\n",
       "      <td>NHL and the NHL Shield are registered trademar...</td>\n",
       "      <td>2017020787</td>\n",
       "      <td>/api/v1/game/2017020787/feed/live</td>\n",
       "      <td>{'wait': 10, 'timeStamp': '20180205_195119'}</td>\n",
       "      <td>{'game': {'pk': 2017020787, 'season': '2017201...</td>\n",
       "      <td>{'plays': {'allPlays': [{'result': {'event': '...</td>\n",
       "    </tr>\n",
       "    <tr>\n",
       "      <th>1131</th>\n",
       "      <td>NHL and the NHL Shield are registered trademar...</td>\n",
       "      <td>2016021132</td>\n",
       "      <td>/api/v1/game/2016021132/feed/live</td>\n",
       "      <td>{'wait': 10, 'timeStamp': '20170920_092125'}</td>\n",
       "      <td>{'game': {'pk': 2016021132, 'season': '2016201...</td>\n",
       "      <td>{'plays': {'allPlays': [{'result': {'event': '...</td>\n",
       "    </tr>\n",
       "    <tr>\n",
       "      <th>1982</th>\n",
       "      <td>NHL and the NHL Shield are registered trademar...</td>\n",
       "      <td>2017020651</td>\n",
       "      <td>/api/v1/game/2017020651/feed/live</td>\n",
       "      <td>{'wait': 10, 'timeStamp': '20180110_114958'}</td>\n",
       "      <td>{'game': {'pk': 2017020651, 'season': '2017201...</td>\n",
       "      <td>{'plays': {'allPlays': [{'result': {'event': '...</td>\n",
       "    </tr>\n",
       "    <tr>\n",
       "      <th>1960</th>\n",
       "      <td>NHL and the NHL Shield are registered trademar...</td>\n",
       "      <td>2017020629</td>\n",
       "      <td>/api/v1/game/2017020629/feed/live</td>\n",
       "      <td>{'wait': 10, 'timeStamp': '20180109_073543'}</td>\n",
       "      <td>{'game': {'pk': 2017020629, 'season': '2017201...</td>\n",
       "      <td>{'plays': {'allPlays': [{'result': {'event': '...</td>\n",
       "    </tr>\n",
       "    <tr>\n",
       "      <th>1681</th>\n",
       "      <td>NHL and the NHL Shield are registered trademar...</td>\n",
       "      <td>2017020350</td>\n",
       "      <td>/api/v1/game/2017020350/feed/live</td>\n",
       "      <td>{'wait': 10, 'timeStamp': '20171128_224529'}</td>\n",
       "      <td>{'game': {'pk': 2017020350, 'season': '2017201...</td>\n",
       "      <td>{'plays': {'allPlays': [{'result': {'event': '...</td>\n",
       "    </tr>\n",
       "  </tbody>\n",
       "</table>\n",
       "</div>"
      ],
      "text/plain": [
       "                                              copyright      gamePk  \\\n",
       "2118  NHL and the NHL Shield are registered trademar...  2017020787   \n",
       "1131  NHL and the NHL Shield are registered trademar...  2016021132   \n",
       "1982  NHL and the NHL Shield are registered trademar...  2017020651   \n",
       "1960  NHL and the NHL Shield are registered trademar...  2017020629   \n",
       "1681  NHL and the NHL Shield are registered trademar...  2017020350   \n",
       "\n",
       "                                   link  \\\n",
       "2118  /api/v1/game/2017020787/feed/live   \n",
       "1131  /api/v1/game/2016021132/feed/live   \n",
       "1982  /api/v1/game/2017020651/feed/live   \n",
       "1960  /api/v1/game/2017020629/feed/live   \n",
       "1681  /api/v1/game/2017020350/feed/live   \n",
       "\n",
       "                                          metaData  \\\n",
       "2118  {'wait': 10, 'timeStamp': '20180205_195119'}   \n",
       "1131  {'wait': 10, 'timeStamp': '20170920_092125'}   \n",
       "1982  {'wait': 10, 'timeStamp': '20180110_114958'}   \n",
       "1960  {'wait': 10, 'timeStamp': '20180109_073543'}   \n",
       "1681  {'wait': 10, 'timeStamp': '20171128_224529'}   \n",
       "\n",
       "                                               gameData  \\\n",
       "2118  {'game': {'pk': 2017020787, 'season': '2017201...   \n",
       "1131  {'game': {'pk': 2016021132, 'season': '2016201...   \n",
       "1982  {'game': {'pk': 2017020651, 'season': '2017201...   \n",
       "1960  {'game': {'pk': 2017020629, 'season': '2017201...   \n",
       "1681  {'game': {'pk': 2017020350, 'season': '2017201...   \n",
       "\n",
       "                                               liveData  \n",
       "2118  {'plays': {'allPlays': [{'result': {'event': '...  \n",
       "1131  {'plays': {'allPlays': [{'result': {'event': '...  \n",
       "1982  {'plays': {'allPlays': [{'result': {'event': '...  \n",
       "1960  {'plays': {'allPlays': [{'result': {'event': '...  \n",
       "1681  {'plays': {'allPlays': [{'result': {'event': '...  "
      ]
     },
     "execution_count": 6,
     "metadata": {},
     "output_type": "execute_result"
    }
   ],
   "source": [
    "df.sample(5)"
   ]
  },
  {
   "cell_type": "code",
   "execution_count": 7,
   "id": "92509623",
   "metadata": {},
   "outputs": [],
   "source": [
    "import matplotlib.image as image\n",
    "file = './img/terrain_hockey.png'\n",
    "logo = image.imread(file)"
   ]
  },
  {
   "cell_type": "code",
   "execution_count": 8,
   "id": "98a86479",
   "metadata": {},
   "outputs": [
    {
     "data": {
      "application/vnd.jupyter.widget-view+json": {
       "model_id": "57873d376933416aa3ea9fb3505668ad",
       "version_major": 2,
       "version_minor": 0
      },
      "text/plain": [
       "interactive(children=(IntSlider(value=1, description='gameId', max=2708, min=1), Output()), _dom_classes=('wid…"
      ]
     },
     "metadata": {},
     "output_type": "display_data"
    }
   ],
   "source": [
    "@widgets.interact(gameId=(1, df.shape[0]))\n",
    "def gameId_plays(gameId=1):\n",
    "    \n",
    "    print(f\"{df['gameData'][gameId]['datetime']}\\n\")\n",
    "    print(f\"Game ID: {gameId}; {df['gameData'][gameId]['teams']['home']['name']} (home) vs {df['gameData'][gameId]['teams']['away']['name']} (away)\\n\")\n",
    "\n",
    "    try:\n",
    "\n",
    "        @widgets.interact(plays_num=(1, len(df['liveData'][gameId]['plays']['allPlays']) - 1))\n",
    "        def data_game(plays_num=1):\n",
    "            \n",
    "            plt.imshow(logo, extent=[-100, 100, -42.5, 42.5])\n",
    "            try:\n",
    "                x = df['liveData'][gameId]['plays']['allPlays'][plays_num]['coordinates']['x']\n",
    "                y = df['liveData'][gameId]['plays']['allPlays'][plays_num]['coordinates']['y']\n",
    "                \n",
    "                plt.xlim(-100, 100)\n",
    "                plt.ylim(-42.5, 42.5)\n",
    "                plt.scatter(x, y, c='green')\n",
    "                \n",
    "                props = dict(boxstyle='round', facecolor='green', alpha=0.6)\n",
    "\n",
    "                plt.text(x - 10, y + 10, df['liveData'][gameId]['plays']['allPlays'][plays_num]['result']['eventTypeId'], fontsize=10, \n",
    "                        verticalalignment='top', bbox=props)\n",
    "\n",
    "            except:\n",
    "                pass\n",
    "\n",
    "            print(df['liveData'][gameId]['plays']['allPlays'][plays_num])\n",
    "\n",
    "            print(f\"\\n Description of event: {df['liveData'][gameId]['plays']['allPlays'][plays_num]['result']['description']}\")\n",
    "        \n",
    "    except:\n",
    "        print(f'Game Id {gameId} is not correct')"
   ]
  },
  {
   "cell_type": "code",
   "execution_count": null,
   "id": "bfe82d16",
   "metadata": {},
   "outputs": [],
   "source": []
  }
 ],
 "metadata": {
  "kernelspec": {
   "display_name": "Python 3 (ipykernel)",
   "language": "python",
   "name": "python3"
  },
  "language_info": {
   "codemirror_mode": {
    "name": "ipython",
    "version": 3
   },
   "file_extension": ".py",
   "mimetype": "text/x-python",
   "name": "python",
   "nbconvert_exporter": "python",
   "pygments_lexer": "ipython3",
   "version": "3.9.18"
  }
 },
 "nbformat": 4,
 "nbformat_minor": 5
}
