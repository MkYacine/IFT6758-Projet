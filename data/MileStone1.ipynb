{
 "cells": [
  {
   "cell_type": "code",
   "execution_count": 5,
   "id": "da4a9e86",
   "metadata": {},
   "outputs": [],
   "source": [
    "import ipywidgets as widgets\n",
    "import matplotlib.pyplot as plt\n",
    "from scrape import scrape_multiple_years\n",
    "import pandas as pd\n",
    "import os"
   ]
  },
  {
   "cell_type": "code",
   "execution_count": 8,
   "id": "de982c61",
   "metadata": {
    "scrolled": true
   },
   "outputs": [],
   "source": [
    "L = ['2016', '2017']\n",
    "path = os.path.join('data\\datasets','2016.json')\n",
    "df = pd.read_json(path)"
   ]
  },
  {
   "cell_type": "code",
   "execution_count": 9,
   "id": "ee31498b",
   "metadata": {
    "scrolled": true
   },
   "outputs": [
    {
     "data": {
      "text/html": [
       "<div>\n",
       "<style scoped>\n",
       "    .dataframe tbody tr th:only-of-type {\n",
       "        vertical-align: middle;\n",
       "    }\n",
       "\n",
       "    .dataframe tbody tr th {\n",
       "        vertical-align: top;\n",
       "    }\n",
       "\n",
       "    .dataframe thead th {\n",
       "        text-align: right;\n",
       "    }\n",
       "</style>\n",
       "<table border=\"1\" class=\"dataframe\">\n",
       "  <thead>\n",
       "    <tr style=\"text-align: right;\">\n",
       "      <th></th>\n",
       "      <th>copyright</th>\n",
       "      <th>gamePk</th>\n",
       "      <th>link</th>\n",
       "      <th>metaData</th>\n",
       "      <th>gameData</th>\n",
       "      <th>liveData</th>\n",
       "    </tr>\n",
       "  </thead>\n",
       "  <tbody>\n",
       "    <tr>\n",
       "      <th>837</th>\n",
       "      <td>NHL and the NHL Shield are registered trademar...</td>\n",
       "      <td>2016020838</td>\n",
       "      <td>/api/v1/game/2016020838/feed/live</td>\n",
       "      <td>{'wait': 10, 'timeStamp': '20170920_090856'}</td>\n",
       "      <td>{'game': {'pk': 2016020838, 'season': '2016201...</td>\n",
       "      <td>{'plays': {'allPlays': [{'result': {'event': '...</td>\n",
       "    </tr>\n",
       "    <tr>\n",
       "      <th>996</th>\n",
       "      <td>NHL and the NHL Shield are registered trademar...</td>\n",
       "      <td>2016020997</td>\n",
       "      <td>/api/v1/game/2016020997/feed/live</td>\n",
       "      <td>{'wait': 10, 'timeStamp': '20170920_091540'}</td>\n",
       "      <td>{'game': {'pk': 2016020997, 'season': '2016201...</td>\n",
       "      <td>{'plays': {'allPlays': [{'result': {'event': '...</td>\n",
       "    </tr>\n",
       "    <tr>\n",
       "      <th>666</th>\n",
       "      <td>NHL and the NHL Shield are registered trademar...</td>\n",
       "      <td>2016020667</td>\n",
       "      <td>/api/v1/game/2016020667/feed/live</td>\n",
       "      <td>{'wait': 10, 'timeStamp': '20170920_090146'}</td>\n",
       "      <td>{'game': {'pk': 2016020667, 'season': '2016201...</td>\n",
       "      <td>{'plays': {'allPlays': [{'result': {'event': '...</td>\n",
       "    </tr>\n",
       "    <tr>\n",
       "      <th>287</th>\n",
       "      <td>NHL and the NHL Shield are registered trademar...</td>\n",
       "      <td>2016020288</td>\n",
       "      <td>/api/v1/game/2016020288/feed/live</td>\n",
       "      <td>{'wait': 10, 'timeStamp': '20170920_084627'}</td>\n",
       "      <td>{'game': {'pk': 2016020288, 'season': '2016201...</td>\n",
       "      <td>{'plays': {'allPlays': [{'result': {'event': '...</td>\n",
       "    </tr>\n",
       "    <tr>\n",
       "      <th>326</th>\n",
       "      <td>NHL and the NHL Shield are registered trademar...</td>\n",
       "      <td>2016020327</td>\n",
       "      <td>/api/v1/game/2016020327/feed/live</td>\n",
       "      <td>{'wait': 10, 'timeStamp': '20170920_084749'}</td>\n",
       "      <td>{'game': {'pk': 2016020327, 'season': '2016201...</td>\n",
       "      <td>{'plays': {'allPlays': [{'result': {'event': '...</td>\n",
       "    </tr>\n",
       "  </tbody>\n",
       "</table>\n",
       "</div>"
      ],
      "text/plain": [
       "                                             copyright      gamePk  \\\n",
       "837  NHL and the NHL Shield are registered trademar...  2016020838   \n",
       "996  NHL and the NHL Shield are registered trademar...  2016020997   \n",
       "666  NHL and the NHL Shield are registered trademar...  2016020667   \n",
       "287  NHL and the NHL Shield are registered trademar...  2016020288   \n",
       "326  NHL and the NHL Shield are registered trademar...  2016020327   \n",
       "\n",
       "                                  link  \\\n",
       "837  /api/v1/game/2016020838/feed/live   \n",
       "996  /api/v1/game/2016020997/feed/live   \n",
       "666  /api/v1/game/2016020667/feed/live   \n",
       "287  /api/v1/game/2016020288/feed/live   \n",
       "326  /api/v1/game/2016020327/feed/live   \n",
       "\n",
       "                                         metaData  \\\n",
       "837  {'wait': 10, 'timeStamp': '20170920_090856'}   \n",
       "996  {'wait': 10, 'timeStamp': '20170920_091540'}   \n",
       "666  {'wait': 10, 'timeStamp': '20170920_090146'}   \n",
       "287  {'wait': 10, 'timeStamp': '20170920_084627'}   \n",
       "326  {'wait': 10, 'timeStamp': '20170920_084749'}   \n",
       "\n",
       "                                              gameData  \\\n",
       "837  {'game': {'pk': 2016020838, 'season': '2016201...   \n",
       "996  {'game': {'pk': 2016020997, 'season': '2016201...   \n",
       "666  {'game': {'pk': 2016020667, 'season': '2016201...   \n",
       "287  {'game': {'pk': 2016020288, 'season': '2016201...   \n",
       "326  {'game': {'pk': 2016020327, 'season': '2016201...   \n",
       "\n",
       "                                              liveData  \n",
       "837  {'plays': {'allPlays': [{'result': {'event': '...  \n",
       "996  {'plays': {'allPlays': [{'result': {'event': '...  \n",
       "666  {'plays': {'allPlays': [{'result': {'event': '...  \n",
       "287  {'plays': {'allPlays': [{'result': {'event': '...  \n",
       "326  {'plays': {'allPlays': [{'result': {'event': '...  "
      ]
     },
     "execution_count": 9,
     "metadata": {},
     "output_type": "execute_result"
    }
   ],
   "source": [
    "df.sample(5)"
   ]
  },
  {
   "cell_type": "code",
   "execution_count": 10,
   "id": "92509623",
   "metadata": {},
   "outputs": [],
   "source": [
    "import matplotlib.image as image\n",
    "file = './img/terrain_hockey.png'\n",
    "logo = image.imread(file)"
   ]
  },
  {
   "cell_type": "code",
   "execution_count": 12,
   "id": "98a86479",
   "metadata": {},
   "outputs": [
    {
     "data": {
      "application/vnd.jupyter.widget-view+json": {
       "model_id": "b56508d357f546a6aeab59e6b83d981e",
       "version_major": 2,
       "version_minor": 0
      },
      "text/plain": [
       "interactive(children=(IntSlider(value=1, description='gameId', max=1332, min=1), Output()), _dom_classes=('wid…"
      ]
     },
     "metadata": {},
     "output_type": "display_data"
    }
   ],
   "source": [
    "@widgets.interact(gameId=(1, df.shape[0]))\n",
    "def gameId_plays(gameId=1):\n",
    "    \n",
    "    print(f\"{df['gameData'][gameId]['datetime']}\\n\")\n",
    "    print(f\"Game ID: {gameId}; {df['gameData'][gameId]['teams']['home']['name']} (home) vs {df['gameData'][gameId]['teams']['away']['name']} (away)\\n\")\n",
    "\n",
    "    try:\n",
    "\n",
    "        @widgets.interact(plays_num=(1, len(df['liveData'][gameId]['plays']['allPlays']) - 1))\n",
    "        def data_game(plays_num=1):\n",
    "            \n",
    "            plt.imshow(logo, extent=[-100, 100, -42.5, 42.5])\n",
    "            try:\n",
    "                x = df['liveData'][gameId]['plays']['allPlays'][plays_num]['coordinates']['x']\n",
    "                y = df['liveData'][gameId]['plays']['allPlays'][plays_num]['coordinates']['y']\n",
    "                \n",
    "                plt.xlim(-100, 100)\n",
    "                plt.ylim(-42.5, 42.5)\n",
    "                plt.scatter(x, y, c='green')\n",
    "                \n",
    "                props = dict(boxstyle='round', facecolor='green', alpha=0.6)\n",
    "\n",
    "                plt.text(x - 10, y + 10, df['liveData'][gameId]['plays']['allPlays'][plays_num]['result']['eventTypeId'], fontsize=10, \n",
    "                        verticalalignment='top', bbox=props)\n",
    "\n",
    "            except:\n",
    "                pass\n",
    "\n",
    "            print(df['liveData'][gameId]['plays']['allPlays'][plays_num])\n",
    "\n",
    "            print(f\"\\n Description of event: {df['liveData'][gameId]['plays']['allPlays'][plays_num]['result']['description']}\")\n",
    "        \n",
    "    except:\n",
    "        print(f'Game Id {gameId} is not correct')"
   ]
  },
  {
   "cell_type": "code",
   "execution_count": null,
   "id": "bfe82d16",
   "metadata": {},
   "outputs": [],
   "source": []
  },
  {
   "cell_type": "code",
   "execution_count": null,
   "id": "332d3949-0d2d-4c37-aaf0-5b53c8a87c25",
   "metadata": {},
   "outputs": [],
   "source": []
  }
 ],
 "metadata": {
  "kernelspec": {
   "display_name": "Python 3 (ipykernel)",
   "language": "python",
   "name": "python3"
  },
  "language_info": {
   "codemirror_mode": {
    "name": "ipython",
    "version": 3
   },
   "file_extension": ".py",
   "mimetype": "text/x-python",
   "name": "python",
   "nbconvert_exporter": "python",
   "pygments_lexer": "ipython3",
   "version": "3.11.5"
  }
 },
 "nbformat": 4,
 "nbformat_minor": 5
}
