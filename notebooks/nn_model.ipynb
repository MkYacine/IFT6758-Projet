{
 "cells": [
  {
   "cell_type": "code",
   "execution_count": 1,
   "metadata": {},
   "outputs": [],
   "source": [
    "import torch \n",
    "from torch import nn, optim\n",
    "import pandas as pd\n",
    "import numpy as np\n",
    "import os\n",
    "\n",
    "from sklearn.preprocessing import StandardScaler"
   ]
  },
  {
   "cell_type": "code",
   "execution_count": 14,
   "metadata": {},
   "outputs": [],
   "source": [
    "# Training features\n",
    "Training_features = pd.read_csv('../data/datasets/csv_files/Train_features.csv')\n",
    "# Testing features\n",
    "Testing_features = pd.read_csv('../data/datasets/csv_files/Test_features.csv')"
   ]
  },
  {
   "cell_type": "code",
   "execution_count": 15,
   "metadata": {},
   "outputs": [],
   "source": [
    "# Training labels\n",
    "Training_labels = pd.read_csv('../data/datasets/csv_files/Train_labels.csv')\n",
    "# Testing labels\n",
    "Testing_labels = pd.read_csv('../data/datasets/csv_files/Test_labels.csv')"
   ]
  },
  {
   "cell_type": "markdown",
   "metadata": {},
   "source": [
    "$$ \\textbf{Préparation des données :} $$"
   ]
  },
  {
   "cell_type": "markdown",
   "metadata": {},
   "source": [
    "$$ \\text{Traitement des données d'entrainement} $$ "
   ]
  },
  {
   "cell_type": "code",
   "execution_count": 16,
   "metadata": {},
   "outputs": [
    {
     "data": {
      "text/html": [
       "<div>\n",
       "<style scoped>\n",
       "    .dataframe tbody tr th:only-of-type {\n",
       "        vertical-align: middle;\n",
       "    }\n",
       "\n",
       "    .dataframe tbody tr th {\n",
       "        vertical-align: top;\n",
       "    }\n",
       "\n",
       "    .dataframe thead th {\n",
       "        text-align: right;\n",
       "    }\n",
       "</style>\n",
       "<table border=\"1\" class=\"dataframe\">\n",
       "  <thead>\n",
       "    <tr style=\"text-align: right;\">\n",
       "      <th></th>\n",
       "      <th>shot_type</th>\n",
       "      <th>strength</th>\n",
       "      <th>last_event_type</th>\n",
       "      <th>time_since_last_event</th>\n",
       "      <th>distance_from_last_event</th>\n",
       "      <th>home_team_players</th>\n",
       "      <th>away_team_players</th>\n",
       "      <th>distance_to_net</th>\n",
       "      <th>rebound</th>\n",
       "      <th>speed</th>\n",
       "    </tr>\n",
       "  </thead>\n",
       "  <tbody>\n",
       "    <tr>\n",
       "      <th>0</th>\n",
       "      <td>3</td>\n",
       "      <td>1</td>\n",
       "      <td>1</td>\n",
       "      <td>16</td>\n",
       "      <td>79.479557</td>\n",
       "      <td>5</td>\n",
       "      <td>5</td>\n",
       "      <td>33.0</td>\n",
       "      <td>0</td>\n",
       "      <td>4.967472</td>\n",
       "    </tr>\n",
       "    <tr>\n",
       "      <th>1</th>\n",
       "      <td>3</td>\n",
       "      <td>1</td>\n",
       "      <td>0</td>\n",
       "      <td>6</td>\n",
       "      <td>108.503456</td>\n",
       "      <td>5</td>\n",
       "      <td>5</td>\n",
       "      <td>47.0</td>\n",
       "      <td>0</td>\n",
       "      <td>18.083909</td>\n",
       "    </tr>\n",
       "    <tr>\n",
       "      <th>2</th>\n",
       "      <td>4</td>\n",
       "      <td>1</td>\n",
       "      <td>4</td>\n",
       "      <td>2</td>\n",
       "      <td>35.057096</td>\n",
       "      <td>5</td>\n",
       "      <td>5</td>\n",
       "      <td>48.0</td>\n",
       "      <td>0</td>\n",
       "      <td>17.528548</td>\n",
       "    </tr>\n",
       "    <tr>\n",
       "      <th>3</th>\n",
       "      <td>2</td>\n",
       "      <td>1</td>\n",
       "      <td>1</td>\n",
       "      <td>42</td>\n",
       "      <td>31.064449</td>\n",
       "      <td>5</td>\n",
       "      <td>5</td>\n",
       "      <td>60.0</td>\n",
       "      <td>0</td>\n",
       "      <td>0.739630</td>\n",
       "    </tr>\n",
       "    <tr>\n",
       "      <th>4</th>\n",
       "      <td>1</td>\n",
       "      <td>1</td>\n",
       "      <td>2</td>\n",
       "      <td>1</td>\n",
       "      <td>13.601471</td>\n",
       "      <td>5</td>\n",
       "      <td>5</td>\n",
       "      <td>37.0</td>\n",
       "      <td>0</td>\n",
       "      <td>13.601471</td>\n",
       "    </tr>\n",
       "  </tbody>\n",
       "</table>\n",
       "</div>"
      ],
      "text/plain": [
       "   shot_type  strength  last_event_type  time_since_last_event  \\\n",
       "0          3         1                1                     16   \n",
       "1          3         1                0                      6   \n",
       "2          4         1                4                      2   \n",
       "3          2         1                1                     42   \n",
       "4          1         1                2                      1   \n",
       "\n",
       "   distance_from_last_event  home_team_players  away_team_players  \\\n",
       "0                 79.479557                  5                  5   \n",
       "1                108.503456                  5                  5   \n",
       "2                 35.057096                  5                  5   \n",
       "3                 31.064449                  5                  5   \n",
       "4                 13.601471                  5                  5   \n",
       "\n",
       "   distance_to_net  rebound      speed  \n",
       "0             33.0        0   4.967472  \n",
       "1             47.0        0  18.083909  \n",
       "2             48.0        0  17.528548  \n",
       "3             60.0        0   0.739630  \n",
       "4             37.0        0  13.601471  "
      ]
     },
     "execution_count": 16,
     "metadata": {},
     "output_type": "execute_result"
    }
   ],
   "source": [
    "Training_features.head()"
   ]
  },
  {
   "cell_type": "code",
   "execution_count": 17,
   "metadata": {},
   "outputs": [],
   "source": [
    "std = StandardScaler()"
   ]
  },
  {
   "cell_type": "code",
   "execution_count": 18,
   "metadata": {},
   "outputs": [],
   "source": [
    "training_feature_values = std.fit_transform(Training_features)"
   ]
  },
  {
   "cell_type": "code",
   "execution_count": 19,
   "metadata": {},
   "outputs": [],
   "source": [
    "# Conversion des données d'entrainement en np.ndarray\n",
    "training_label_values = Training_labels.values\n",
    "\n",
    "# Conversion des données d'entrainement en tensor \n",
    "X_train = torch.FloatTensor(training_feature_values)\n",
    "y_train = torch.FloatTensor(training_label_values)"
   ]
  },
  {
   "cell_type": "markdown",
   "metadata": {},
   "source": [
    "$$ \\text{Traitement des données de test} $$ "
   ]
  },
  {
   "cell_type": "code",
   "execution_count": 20,
   "metadata": {},
   "outputs": [],
   "source": [
    "# Conversion des données de test en tensor\n",
    "X_test = torch.FloatTensor(Testing_features.values)\n",
    "y_test = torch.FloatTensor(Testing_labels.values)"
   ]
  },
  {
   "cell_type": "markdown",
   "metadata": {},
   "source": [
    "$$\\text{Définition de notre réseau de neurones} $$"
   ]
  },
  {
   "cell_type": "code",
   "execution_count": 26,
   "metadata": {},
   "outputs": [],
   "source": [
    "input_dim = 10\n",
    "hidden_dim_1 = 100\n",
    "hidden_dim_2 = 300\n",
    "hidden_dim_3 = 100\n",
    "output_dim = 1\n",
    "\n",
    "class NeuralNetwork(nn.Module):\n",
    "    def __init__(self, input_dim, hidden_dim_1, hidden_dim_2, hidden_dim_3, output_dim):\n",
    "        super(NeuralNetwork, self).__init__()\n",
    "        self.layer_1 = nn.Linear(input_dim, hidden_dim_1)\n",
    "        self.layer_2 = nn.Linear(hidden_dim_1, hidden_dim_2)\n",
    "        self.layer_3 = nn.Linear(hidden_dim_2, hidden_dim_3)\n",
    "        self.layer_4 = nn.Linear(hidden_dim_3, output_dim)\n",
    "       \n",
    "    def forward(self, x):\n",
    "        # Choix de la sigmoide car elle est plus utilisée dans les problèmes de classification\n",
    "        x = torch.nn.functional.relu(self.layer_1(x))\n",
    "        x = torch.nn.functional.relu(self.layer_2(x))\n",
    "        x = torch.nn.functional.relu(self.layer_3(x))\n",
    "        x = torch.nn.functional.sigmoid(self.layer_4(x))\n",
    "        return x"
   ]
  },
  {
   "cell_type": "code",
   "execution_count": 28,
   "metadata": {},
   "outputs": [],
   "source": [
    "# Déclaration du modèle\n",
    "model = NeuralNetwork(input_dim, hidden_dim_1, hidden_dim_2, hidden_dim_3, output_dim)"
   ]
  },
  {
   "cell_type": "code",
   "execution_count": 30,
   "metadata": {},
   "outputs": [
    {
     "data": {
      "text/plain": [
       "<bound method Module.parameters of NeuralNetwork(\n",
       "  (layer_1): Linear(in_features=10, out_features=100, bias=True)\n",
       "  (layer_2): Linear(in_features=100, out_features=300, bias=True)\n",
       "  (layer_3): Linear(in_features=300, out_features=100, bias=True)\n",
       "  (layer_4): Linear(in_features=100, out_features=1, bias=True)\n",
       ")>"
      ]
     },
     "execution_count": 30,
     "metadata": {},
     "output_type": "execute_result"
    }
   ],
   "source": [
    "model.parameters"
   ]
  },
  {
   "cell_type": "code",
   "execution_count": 31,
   "metadata": {},
   "outputs": [],
   "source": [
    "# Set the criterion of the model to measure error\n",
    "criterion = nn.BCELoss()\n",
    "# Choose our Optimizer\n",
    "optimizer = torch.optim.Adam(model.parameters(), lr = 0.001)"
   ]
  },
  {
   "cell_type": "code",
   "execution_count": 32,
   "metadata": {},
   "outputs": [
    {
     "name": "stdout",
     "output_type": "stream",
     "text": [
      "Epoch : 0 and loss :0.7151914834976196\n",
      "Epoch : 10 and loss :0.36117297410964966\n",
      "Epoch : 20 and loss :0.34099191427230835\n",
      "Epoch : 30 and loss :0.30278271436691284\n",
      "Epoch : 40 and loss :0.28951066732406616\n",
      "Epoch : 50 and loss :0.28561660647392273\n",
      "Epoch : 60 and loss :0.283051460981369\n",
      "Epoch : 70 and loss :0.28145402669906616\n",
      "Epoch : 80 and loss :0.28032615780830383\n",
      "Epoch : 90 and loss :0.2793436050415039\n",
      "Training Complete\n"
     ]
    }
   ],
   "source": [
    "num_epochs = 100\n",
    "loss_values = []\n",
    "\n",
    "\n",
    "for epoch in range(num_epochs):\n",
    "    model.train()\n",
    "    y_pred = model.forward(X_train)\n",
    "    loss = criterion(y_pred, y_train)\n",
    "    loss_values.append(loss.detach().numpy())\n",
    "\n",
    "    if epoch%10 == 0 :\n",
    "        print(f'Epoch : {epoch} and loss :{loss}')\n",
    "\n",
    "    # Back propagation\n",
    "    optimizer.zero_grad()\n",
    "    loss.backward()\n",
    "    optimizer.step()\n",
    "    \n",
    "print(\"Training Complete\")\n"
   ]
  }
 ],
 "metadata": {
  "kernelspec": {
   "display_name": "project-env",
   "language": "python",
   "name": "python3"
  },
  "language_info": {
   "codemirror_mode": {
    "name": "ipython",
    "version": 3
   },
   "file_extension": ".py",
   "mimetype": "text/x-python",
   "name": "python",
   "nbconvert_exporter": "python",
   "pygments_lexer": "ipython3",
   "version": "3.11.5"
  }
 },
 "nbformat": 4,
 "nbformat_minor": 2
}
