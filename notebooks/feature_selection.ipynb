{
 "cells": [
  {
   "cell_type": "code",
   "execution_count": 1,
   "metadata": {},
   "outputs": [],
   "source": [
    "import pandas as pd\n",
    "import numpy as np\n",
    "import os \n",
    "\n",
    "from sklearn.preprocessing import LabelEncoder, OrdinalEncoder\n",
    "from sklearn.ensemble import RandomForestClassifier\n",
    "from sklearn.model_selection import train_test_split\n",
    "from sklearn.metrics import accuracy_score, f1_score, confusion_matrix"
   ]
  },
  {
   "cell_type": "code",
   "execution_count": 2,
   "metadata": {},
   "outputs": [],
   "source": [
    "input_path = os.path.join('..\\data\\datasets\\csv_files','2016-2020-v2.csv')\n",
    "\n",
    "df = pd.read_csv(input_path)"
   ]
  },
  {
   "cell_type": "code",
   "execution_count": 3,
   "metadata": {},
   "outputs": [],
   "source": [
    "target_feature =['distance_to_net','shot_angle']\n",
    "test_feature = 'is_goal'"
   ]
  },
  {
   "cell_type": "code",
   "execution_count": 4,
   "metadata": {},
   "outputs": [],
   "source": [
    "def split_data(df : pd.DataFrame, target_feature : list, test_feature : str, test_year: int):\n",
    "    df = df.copy()\n",
    "    \n",
    "    # Ajout d'une colonne pour l'année\n",
    "    df['year'] = df['gameID'].apply(lambda x : x//1000000)\n",
    "    features = target_feature.copy()\n",
    "    features.append(test_feature)\n",
    "    \n",
    "    # DataFrame pour l'ensemble d'entrainement et de validation\n",
    "    df_train_val = df[df['year'] != test_year]\n",
    "    df_train_val = df_train_val[features].dropna()\n",
    "\n",
    "    X_train, X_val, Y_train, Y_val = train_test_split(\n",
    "        df_train_val[target_feature], df_train_val[test_feature], test_size = 0.2, random_state = 42\n",
    "    )\n",
    "\n",
    "    # DataFrame pour l'ensemble de test\n",
    "    df_test = df[df['year'] == test_year]\n",
    "    X_test = df_test[target_feature].dropna()\n",
    "    Y_test = df_test[test_feature].dropna()\n",
    "\n",
    "    return X_train, X_val, X_test, Y_train, Y_val, Y_test"
   ]
  },
  {
   "cell_type": "code",
   "execution_count": 5,
   "metadata": {},
   "outputs": [],
   "source": [
    "X_train, X_val, X_test, Y_train, Y_val, Y_test = split_data(df, target_feature, test_feature, 2020)"
   ]
  },
  {
   "cell_type": "markdown",
   "metadata": {},
   "source": [
    "$$\\textbf{Encodage des caractéristiques :}$$"
   ]
  },
  {
   "cell_type": "code",
   "execution_count": 6,
   "metadata": {},
   "outputs": [],
   "source": [
    "# Encodage des caractéristiques de type catégorielle :\n",
    "# On utilise LabelEncoder() pour les variables pour lesquelles l'ordre n'est pas important\n",
    "\n",
    "# Colonne pour lesquels l'ordre n'est pas important\n",
    "categorical_columns_1 = ['period_type', 'attacking_team_name', 'shooter', 'goalie', 'rebound', 'strength', 'last_event_type']\n",
    "\n",
    "# Colonne pour laquelle l'ordre est important\n",
    "# Sachant que certains types de tirs sont plus efficaces en moyenne que d'autre, on encode les \n",
    "# types de tirs les plus efficaces avec des valeurs élevées\n",
    "# (Au Milestone 1, on a vu que les 'Tip-in' sont les plus efficaces et que les 'Wrap-around' sont les moins\n",
    "# efficaces)\n",
    "\n",
    "shot_type_classified = [['Wrap-around',0], ['Slap Shot', 1], ['Snap Shot', 2], ['Wrist Shot', 3], ['Backhand', 4], ['Deflected', 5], ['Tip-In',6]]"
   ]
  },
  {
   "cell_type": "code",
   "execution_count": 7,
   "metadata": {},
   "outputs": [],
   "source": [
    "def encode_categorical_features(df : pd.DataFrame, categorical_features: list, shot_type_classified : list):\n",
    "    df = df.copy()\n",
    "\n",
    "    # Encodage des 'shot_type'\n",
    "    mapping_dict = {row[0]: row[1] for row in shot_type_classified}\n",
    "    df['shot_type'] = df['shot_type'].replace(mapping_dict)\n",
    "\n",
    "    # Encodage des autres caractéristiques\n",
    "    label_encoder = LabelEncoder()\n",
    "\n",
    "    for feature in categorical_features :\n",
    "        df[feature] = label_encoder.fit_transform(df[feature]) \n",
    "\n",
    "    return df"
   ]
  },
  {
   "cell_type": "code",
   "execution_count": 8,
   "metadata": {},
   "outputs": [
    {
     "data": {
      "text/html": [
       "<div>\n",
       "<style scoped>\n",
       "    .dataframe tbody tr th:only-of-type {\n",
       "        vertical-align: middle;\n",
       "    }\n",
       "\n",
       "    .dataframe tbody tr th {\n",
       "        vertical-align: top;\n",
       "    }\n",
       "\n",
       "    .dataframe thead th {\n",
       "        text-align: right;\n",
       "    }\n",
       "</style>\n",
       "<table border=\"1\" class=\"dataframe\">\n",
       "  <thead>\n",
       "    <tr style=\"text-align: right;\">\n",
       "      <th></th>\n",
       "      <th>period</th>\n",
       "      <th>period_type</th>\n",
       "      <th>period_time</th>\n",
       "      <th>game_seconds</th>\n",
       "      <th>gameID</th>\n",
       "      <th>attacking_team_id</th>\n",
       "      <th>attacking_team_name</th>\n",
       "      <th>shooter</th>\n",
       "      <th>goalie</th>\n",
       "      <th>shot_type</th>\n",
       "      <th>...</th>\n",
       "      <th>powerplay_duration</th>\n",
       "      <th>home_team_players</th>\n",
       "      <th>away_team_players</th>\n",
       "      <th>distance_to_net</th>\n",
       "      <th>shot_angle</th>\n",
       "      <th>is_goal</th>\n",
       "      <th>is_empty_net</th>\n",
       "      <th>rebound</th>\n",
       "      <th>angle_change</th>\n",
       "      <th>speed</th>\n",
       "    </tr>\n",
       "  </thead>\n",
       "  <tbody>\n",
       "    <tr>\n",
       "      <th>0</th>\n",
       "      <td>1</td>\n",
       "      <td>1</td>\n",
       "      <td>01:11</td>\n",
       "      <td>71</td>\n",
       "      <td>2016020001</td>\n",
       "      <td>10</td>\n",
       "      <td>26</td>\n",
       "      <td>983</td>\n",
       "      <td>43</td>\n",
       "      <td>3.0</td>\n",
       "      <td>...</td>\n",
       "      <td>0</td>\n",
       "      <td>5</td>\n",
       "      <td>5</td>\n",
       "      <td>13.0</td>\n",
       "      <td>23.0</td>\n",
       "      <td>0</td>\n",
       "      <td>0</td>\n",
       "      <td>0</td>\n",
       "      <td>0.0</td>\n",
       "      <td>17.088007</td>\n",
       "    </tr>\n",
       "    <tr>\n",
       "      <th>1</th>\n",
       "      <td>1</td>\n",
       "      <td>1</td>\n",
       "      <td>02:53</td>\n",
       "      <td>173</td>\n",
       "      <td>2016020001</td>\n",
       "      <td>9</td>\n",
       "      <td>20</td>\n",
       "      <td>268</td>\n",
       "      <td>58</td>\n",
       "      <td>3.0</td>\n",
       "      <td>...</td>\n",
       "      <td>0</td>\n",
       "      <td>5</td>\n",
       "      <td>5</td>\n",
       "      <td>13.0</td>\n",
       "      <td>77.0</td>\n",
       "      <td>0</td>\n",
       "      <td>0</td>\n",
       "      <td>0</td>\n",
       "      <td>0.0</td>\n",
       "      <td>7.343024</td>\n",
       "    </tr>\n",
       "    <tr>\n",
       "      <th>2</th>\n",
       "      <td>1</td>\n",
       "      <td>1</td>\n",
       "      <td>04:01</td>\n",
       "      <td>241</td>\n",
       "      <td>2016020001</td>\n",
       "      <td>9</td>\n",
       "      <td>20</td>\n",
       "      <td>295</td>\n",
       "      <td>58</td>\n",
       "      <td>3.0</td>\n",
       "      <td>...</td>\n",
       "      <td>0</td>\n",
       "      <td>5</td>\n",
       "      <td>5</td>\n",
       "      <td>76.0</td>\n",
       "      <td>-30.0</td>\n",
       "      <td>0</td>\n",
       "      <td>0</td>\n",
       "      <td>0</td>\n",
       "      <td>0.0</td>\n",
       "      <td>5.684341</td>\n",
       "    </tr>\n",
       "    <tr>\n",
       "      <th>3</th>\n",
       "      <td>1</td>\n",
       "      <td>1</td>\n",
       "      <td>04:46</td>\n",
       "      <td>286</td>\n",
       "      <td>2016020001</td>\n",
       "      <td>9</td>\n",
       "      <td>20</td>\n",
       "      <td>455</td>\n",
       "      <td>58</td>\n",
       "      <td>1.0</td>\n",
       "      <td>...</td>\n",
       "      <td>0</td>\n",
       "      <td>5</td>\n",
       "      <td>5</td>\n",
       "      <td>58.0</td>\n",
       "      <td>-15.0</td>\n",
       "      <td>0</td>\n",
       "      <td>0</td>\n",
       "      <td>0</td>\n",
       "      <td>0.0</td>\n",
       "      <td>2.414752</td>\n",
       "    </tr>\n",
       "    <tr>\n",
       "      <th>4</th>\n",
       "      <td>1</td>\n",
       "      <td>1</td>\n",
       "      <td>06:46</td>\n",
       "      <td>406</td>\n",
       "      <td>2016020001</td>\n",
       "      <td>10</td>\n",
       "      <td>26</td>\n",
       "      <td>876</td>\n",
       "      <td>43</td>\n",
       "      <td>3.0</td>\n",
       "      <td>...</td>\n",
       "      <td>0</td>\n",
       "      <td>5</td>\n",
       "      <td>5</td>\n",
       "      <td>62.0</td>\n",
       "      <td>27.0</td>\n",
       "      <td>0</td>\n",
       "      <td>0</td>\n",
       "      <td>0</td>\n",
       "      <td>0.0</td>\n",
       "      <td>5.076370</td>\n",
       "    </tr>\n",
       "  </tbody>\n",
       "</table>\n",
       "<p>5 rows × 28 columns</p>\n",
       "</div>"
      ],
      "text/plain": [
       "   period  period_type period_time  game_seconds      gameID  \\\n",
       "0       1            1       01:11            71  2016020001   \n",
       "1       1            1       02:53           173  2016020001   \n",
       "2       1            1       04:01           241  2016020001   \n",
       "3       1            1       04:46           286  2016020001   \n",
       "4       1            1       06:46           406  2016020001   \n",
       "\n",
       "   attacking_team_id  attacking_team_name  shooter  goalie  shot_type  ...  \\\n",
       "0                 10                   26      983      43        3.0  ...   \n",
       "1                  9                   20      268      58        3.0  ...   \n",
       "2                  9                   20      295      58        3.0  ...   \n",
       "3                  9                   20      455      58        1.0  ...   \n",
       "4                 10                   26      876      43        3.0  ...   \n",
       "\n",
       "   powerplay_duration  home_team_players  away_team_players  distance_to_net  \\\n",
       "0                   0                  5                  5             13.0   \n",
       "1                   0                  5                  5             13.0   \n",
       "2                   0                  5                  5             76.0   \n",
       "3                   0                  5                  5             58.0   \n",
       "4                   0                  5                  5             62.0   \n",
       "\n",
       "   shot_angle  is_goal  is_empty_net  rebound  angle_change      speed  \n",
       "0        23.0        0             0        0           0.0  17.088007  \n",
       "1        77.0        0             0        0           0.0   7.343024  \n",
       "2       -30.0        0             0        0           0.0   5.684341  \n",
       "3       -15.0        0             0        0           0.0   2.414752  \n",
       "4        27.0        0             0        0           0.0   5.076370  \n",
       "\n",
       "[5 rows x 28 columns]"
      ]
     },
     "execution_count": 8,
     "metadata": {},
     "output_type": "execute_result"
    }
   ],
   "source": [
    "df = encode_categorical_features(df, categorical_columns_1, shot_type_classified)\n",
    "df.head()"
   ]
  },
  {
   "cell_type": "markdown",
   "metadata": {},
   "source": [
    "$$ \\textbf{Réequilibrage des données :} $$"
   ]
  },
  {
   "cell_type": "code",
   "execution_count": null,
   "metadata": {},
   "outputs": [],
   "source": [
    "# 1re approche : Utilisation de SMOTE pour créer des échantillons synthétiques de la classe minoritaire\n"
   ]
  },
  {
   "cell_type": "code",
   "execution_count": 9,
   "metadata": {},
   "outputs": [],
   "source": [
    "# 2e approche : Utilisation de RandomUnderSampler pour réduire la taille de la classe majoritaire\n",
    "from imblearn.under_sampling import RandomUnderSampler\n",
    "# https://imbalanced-learn.org/stable/references/generated/imblearn.under_sampling.RandomUnderSampler.html#imblearn.under_sampling.RandomUnderSampler"
   ]
  },
  {
   "cell_type": "code",
   "execution_count": 35,
   "metadata": {},
   "outputs": [],
   "source": [
    "df = df.dropna()\n",
    "Y = df['is_goal']\n",
    "#X = df[['distance_to_net','shot_angle']]\n",
    "X = df.drop(columns=['period_time','is_goal'], axis = 1)\n",
    "\n",
    "X_train, X_val, Y_train, Y_val = train_test_split(\n",
    "    X, Y, train_size = 0.7, random_state = 42\n",
    ")"
   ]
  },
  {
   "cell_type": "code",
   "execution_count": 36,
   "metadata": {},
   "outputs": [],
   "source": [
    "rus = RandomUnderSampler(random_state = 42)\n",
    "X_train_res, Y_train_res = rus.fit_resample(X_train, Y_train)"
   ]
  },
  {
   "cell_type": "markdown",
   "metadata": {},
   "source": [
    "$$\\textbf{Sélection de caractéristiques :}$$\n",
    "$$ \\underline{\\text{Option 1 : }} \\text{RandomForestClassifier} $$"
   ]
  },
  {
   "cell_type": "code",
   "execution_count": 37,
   "metadata": {},
   "outputs": [],
   "source": [
    "RandomForest_model = RandomForestClassifier()"
   ]
  },
  {
   "cell_type": "code",
   "execution_count": 30,
   "metadata": {},
   "outputs": [
    {
     "data": {
      "text/plain": [
       "Index(['period', 'period_type', 'game_seconds', 'gameID', 'attacking_team_id',\n",
       "       'attacking_team_name', 'shooter', 'goalie', 'shot_type', 'x_coordinate',\n",
       "       'y_coordinate', 'strength', 'last_event_type', 'last_event_x',\n",
       "       'last_event_y', 'time_since_last_event', 'distance_from_last_event',\n",
       "       'powerplay_duration', 'home_team_players', 'away_team_players',\n",
       "       'distance_to_net', 'shot_angle', 'is_empty_net', 'rebound',\n",
       "       'angle_change', 'speed'],\n",
       "      dtype='object')"
      ]
     },
     "execution_count": 30,
     "metadata": {},
     "output_type": "execute_result"
    }
   ],
   "source": [
    "X.columns"
   ]
  },
  {
   "cell_type": "code",
   "execution_count": 38,
   "metadata": {},
   "outputs": [
    {
     "data": {
      "text/html": [
       "<style>#sk-container-id-4 {color: black;}#sk-container-id-4 pre{padding: 0;}#sk-container-id-4 div.sk-toggleable {background-color: white;}#sk-container-id-4 label.sk-toggleable__label {cursor: pointer;display: block;width: 100%;margin-bottom: 0;padding: 0.3em;box-sizing: border-box;text-align: center;}#sk-container-id-4 label.sk-toggleable__label-arrow:before {content: \"▸\";float: left;margin-right: 0.25em;color: #696969;}#sk-container-id-4 label.sk-toggleable__label-arrow:hover:before {color: black;}#sk-container-id-4 div.sk-estimator:hover label.sk-toggleable__label-arrow:before {color: black;}#sk-container-id-4 div.sk-toggleable__content {max-height: 0;max-width: 0;overflow: hidden;text-align: left;background-color: #f0f8ff;}#sk-container-id-4 div.sk-toggleable__content pre {margin: 0.2em;color: black;border-radius: 0.25em;background-color: #f0f8ff;}#sk-container-id-4 input.sk-toggleable__control:checked~div.sk-toggleable__content {max-height: 200px;max-width: 100%;overflow: auto;}#sk-container-id-4 input.sk-toggleable__control:checked~label.sk-toggleable__label-arrow:before {content: \"▾\";}#sk-container-id-4 div.sk-estimator input.sk-toggleable__control:checked~label.sk-toggleable__label {background-color: #d4ebff;}#sk-container-id-4 div.sk-label input.sk-toggleable__control:checked~label.sk-toggleable__label {background-color: #d4ebff;}#sk-container-id-4 input.sk-hidden--visually {border: 0;clip: rect(1px 1px 1px 1px);clip: rect(1px, 1px, 1px, 1px);height: 1px;margin: -1px;overflow: hidden;padding: 0;position: absolute;width: 1px;}#sk-container-id-4 div.sk-estimator {font-family: monospace;background-color: #f0f8ff;border: 1px dotted black;border-radius: 0.25em;box-sizing: border-box;margin-bottom: 0.5em;}#sk-container-id-4 div.sk-estimator:hover {background-color: #d4ebff;}#sk-container-id-4 div.sk-parallel-item::after {content: \"\";width: 100%;border-bottom: 1px solid gray;flex-grow: 1;}#sk-container-id-4 div.sk-label:hover label.sk-toggleable__label {background-color: #d4ebff;}#sk-container-id-4 div.sk-serial::before {content: \"\";position: absolute;border-left: 1px solid gray;box-sizing: border-box;top: 0;bottom: 0;left: 50%;z-index: 0;}#sk-container-id-4 div.sk-serial {display: flex;flex-direction: column;align-items: center;background-color: white;padding-right: 0.2em;padding-left: 0.2em;position: relative;}#sk-container-id-4 div.sk-item {position: relative;z-index: 1;}#sk-container-id-4 div.sk-parallel {display: flex;align-items: stretch;justify-content: center;background-color: white;position: relative;}#sk-container-id-4 div.sk-item::before, #sk-container-id-4 div.sk-parallel-item::before {content: \"\";position: absolute;border-left: 1px solid gray;box-sizing: border-box;top: 0;bottom: 0;left: 50%;z-index: -1;}#sk-container-id-4 div.sk-parallel-item {display: flex;flex-direction: column;z-index: 1;position: relative;background-color: white;}#sk-container-id-4 div.sk-parallel-item:first-child::after {align-self: flex-end;width: 50%;}#sk-container-id-4 div.sk-parallel-item:last-child::after {align-self: flex-start;width: 50%;}#sk-container-id-4 div.sk-parallel-item:only-child::after {width: 0;}#sk-container-id-4 div.sk-dashed-wrapped {border: 1px dashed gray;margin: 0 0.4em 0.5em 0.4em;box-sizing: border-box;padding-bottom: 0.4em;background-color: white;}#sk-container-id-4 div.sk-label label {font-family: monospace;font-weight: bold;display: inline-block;line-height: 1.2em;}#sk-container-id-4 div.sk-label-container {text-align: center;}#sk-container-id-4 div.sk-container {/* jupyter's `normalize.less` sets `[hidden] { display: none; }` but bootstrap.min.css set `[hidden] { display: none !important; }` so we also need the `!important` here to be able to override the default hidden behavior on the sphinx rendered scikit-learn.org. See: https://github.com/scikit-learn/scikit-learn/issues/21755 */display: inline-block !important;position: relative;}#sk-container-id-4 div.sk-text-repr-fallback {display: none;}</style><div id=\"sk-container-id-4\" class=\"sk-top-container\"><div class=\"sk-text-repr-fallback\"><pre>RandomForestClassifier()</pre><b>In a Jupyter environment, please rerun this cell to show the HTML representation or trust the notebook. <br />On GitHub, the HTML representation is unable to render, please try loading this page with nbviewer.org.</b></div><div class=\"sk-container\" hidden><div class=\"sk-item\"><div class=\"sk-estimator sk-toggleable\"><input class=\"sk-toggleable__control sk-hidden--visually\" id=\"sk-estimator-id-4\" type=\"checkbox\" checked><label for=\"sk-estimator-id-4\" class=\"sk-toggleable__label sk-toggleable__label-arrow\">RandomForestClassifier</label><div class=\"sk-toggleable__content\"><pre>RandomForestClassifier()</pre></div></div></div></div></div>"
      ],
      "text/plain": [
       "RandomForestClassifier()"
      ]
     },
     "execution_count": 38,
     "metadata": {},
     "output_type": "execute_result"
    }
   ],
   "source": [
    "RandomForest_model.fit(X_train_res,Y_train_res)"
   ]
  },
  {
   "cell_type": "code",
   "execution_count": 39,
   "metadata": {},
   "outputs": [],
   "source": [
    "Y_pred = RandomForest_model.predict(X_val)"
   ]
  },
  {
   "cell_type": "code",
   "execution_count": 40,
   "metadata": {},
   "outputs": [
    {
     "data": {
      "text/plain": [
       "array([[100883,      0],\n",
       "       [     0,  10317]], dtype=int64)"
      ]
     },
     "execution_count": 40,
     "metadata": {},
     "output_type": "execute_result"
    }
   ],
   "source": [
    "confusion_matrix(Y_val,Y_pred)"
   ]
  },
  {
   "cell_type": "code",
   "execution_count": 41,
   "metadata": {},
   "outputs": [
    {
     "data": {
      "text/plain": [
       "1.0"
      ]
     },
     "execution_count": 41,
     "metadata": {},
     "output_type": "execute_result"
    }
   ],
   "source": [
    "accuracy_score(Y_pred, Y_val)"
   ]
  }
 ],
 "metadata": {
  "kernelspec": {
   "display_name": "project-env",
   "language": "python",
   "name": "python3"
  },
  "language_info": {
   "codemirror_mode": {
    "name": "ipython",
    "version": 3
   },
   "file_extension": ".py",
   "mimetype": "text/x-python",
   "name": "python",
   "nbconvert_exporter": "python",
   "pygments_lexer": "ipython3",
   "version": "3.11.5"
  }
 },
 "nbformat": 4,
 "nbformat_minor": 2
}
