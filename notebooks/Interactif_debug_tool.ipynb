{
 "cells": [
  {
   "cell_type": "code",
   "execution_count": null,
   "id": "da4a9e86",
   "metadata": {},
   "outputs": [],
   "source": [
    "import ipywidgets as widgets\n",
    "import matplotlib.pyplot as plt\n",
    "import matplotlib.image as image\n",
    "from src.data.scrape import scrape_multiple_years, scrape_games_by_year"
   ]
  },
  {
   "cell_type": "code",
   "execution_count": 6,
   "id": "de982c61",
   "metadata": {
    "scrolled": true
   },
   "outputs": [
    {
     "name": "stdout",
     "output_type": "stream",
     "text": [
      "Data doesn't exist in cache, scraping data for the years 2018 to 2020\n",
      "Data doesn't exist in cache, scraping data for the year 2018\n"
     ]
    },
    {
     "name": "stderr",
     "output_type": "stream",
     "text": [
      "Scraping:   3%|████                                                                                                                                   | 42/1376 [00:02<01:24, 15.87game/s]\n"
     ]
    },
    {
     "ename": "KeyboardInterrupt",
     "evalue": "",
     "output_type": "error",
     "traceback": [
      "\u001b[1;31m---------------------------------------------------------------------------\u001b[0m",
      "\u001b[1;31mKeyboardInterrupt\u001b[0m                         Traceback (most recent call last)",
      "File \u001b[1;32mc:\\users\\mk_ya\\desktop\\ift6758-projet\\src\\data\\scrape.py:87\u001b[0m, in \u001b[0;36mscrape_games_by_year\u001b[1;34m(year, data_dir)\u001b[0m\n\u001b[0;32m     86\u001b[0m \u001b[38;5;28;01mwith\u001b[39;00m ThreadPoolExecutor(max_workers\u001b[38;5;241m=\u001b[39m\u001b[38;5;241m10\u001b[39m) \u001b[38;5;28;01mas\u001b[39;00m executor:\n\u001b[1;32m---> 87\u001b[0m     results \u001b[38;5;241m=\u001b[39m \u001b[38;5;28;43mlist\u001b[39;49m\u001b[43m(\u001b[49m\u001b[43mtqdm\u001b[49m\u001b[43m(\u001b[49m\u001b[43mexecutor\u001b[49m\u001b[38;5;241;43m.\u001b[39;49m\u001b[43mmap\u001b[49m\u001b[43m(\u001b[49m\u001b[43mfetch_game_data\u001b[49m\u001b[43m,\u001b[49m\u001b[43m \u001b[49m\u001b[43mgenerator\u001b[49m\u001b[43m)\u001b[49m\u001b[43m,\u001b[49m\u001b[43m \u001b[49m\u001b[43mtotal\u001b[49m\u001b[38;5;241;43m=\u001b[39;49m\u001b[43mtotal_games\u001b[49m\u001b[43m,\u001b[49m\u001b[43m \u001b[49m\u001b[43mdesc\u001b[49m\u001b[38;5;241;43m=\u001b[39;49m\u001b[38;5;124;43m\"\u001b[39;49m\u001b[38;5;124;43mScraping\u001b[39;49m\u001b[38;5;124;43m\"\u001b[39;49m\u001b[43m,\u001b[49m\u001b[43m \u001b[49m\u001b[43munit\u001b[49m\u001b[38;5;241;43m=\u001b[39;49m\u001b[38;5;124;43m\"\u001b[39;49m\u001b[38;5;124;43mgame\u001b[39;49m\u001b[38;5;124;43m\"\u001b[39;49m\u001b[43m)\u001b[49m\u001b[43m)\u001b[49m\n\u001b[0;32m     89\u001b[0m \u001b[38;5;66;03m# Filter out None results\u001b[39;00m\n",
      "File \u001b[1;32mc:\\users\\mk_ya\\desktop\\ift6758-projet\\venv\\lib\\site-packages\\tqdm\\std.py:1182\u001b[0m, in \u001b[0;36mtqdm.__iter__\u001b[1;34m(self)\u001b[0m\n\u001b[0;32m   1181\u001b[0m \u001b[38;5;28;01mtry\u001b[39;00m:\n\u001b[1;32m-> 1182\u001b[0m     \u001b[38;5;28;01mfor\u001b[39;00m obj \u001b[38;5;129;01min\u001b[39;00m iterable:\n\u001b[0;32m   1183\u001b[0m         \u001b[38;5;28;01myield\u001b[39;00m obj\n",
      "File \u001b[1;32m~\\AppData\\Local\\Programs\\Python\\Python310\\lib\\concurrent\\futures\\_base.py:621\u001b[0m, in \u001b[0;36mExecutor.map.<locals>.result_iterator\u001b[1;34m()\u001b[0m\n\u001b[0;32m    620\u001b[0m \u001b[38;5;28;01mif\u001b[39;00m timeout \u001b[38;5;129;01mis\u001b[39;00m \u001b[38;5;28;01mNone\u001b[39;00m:\n\u001b[1;32m--> 621\u001b[0m     \u001b[38;5;28;01myield\u001b[39;00m \u001b[43m_result_or_cancel\u001b[49m\u001b[43m(\u001b[49m\u001b[43mfs\u001b[49m\u001b[38;5;241;43m.\u001b[39;49m\u001b[43mpop\u001b[49m\u001b[43m(\u001b[49m\u001b[43m)\u001b[49m\u001b[43m)\u001b[49m\n\u001b[0;32m    622\u001b[0m \u001b[38;5;28;01melse\u001b[39;00m:\n",
      "File \u001b[1;32m~\\AppData\\Local\\Programs\\Python\\Python310\\lib\\concurrent\\futures\\_base.py:319\u001b[0m, in \u001b[0;36m_result_or_cancel\u001b[1;34m(***failed resolving arguments***)\u001b[0m\n\u001b[0;32m    318\u001b[0m \u001b[38;5;28;01mtry\u001b[39;00m:\n\u001b[1;32m--> 319\u001b[0m     \u001b[38;5;28;01mreturn\u001b[39;00m \u001b[43mfut\u001b[49m\u001b[38;5;241;43m.\u001b[39;49m\u001b[43mresult\u001b[49m\u001b[43m(\u001b[49m\u001b[43mtimeout\u001b[49m\u001b[43m)\u001b[49m\n\u001b[0;32m    320\u001b[0m \u001b[38;5;28;01mfinally\u001b[39;00m:\n",
      "File \u001b[1;32m~\\AppData\\Local\\Programs\\Python\\Python310\\lib\\concurrent\\futures\\_base.py:453\u001b[0m, in \u001b[0;36mFuture.result\u001b[1;34m(self, timeout)\u001b[0m\n\u001b[0;32m    451\u001b[0m     \u001b[38;5;28;01mreturn\u001b[39;00m \u001b[38;5;28mself\u001b[39m\u001b[38;5;241m.\u001b[39m__get_result()\n\u001b[1;32m--> 453\u001b[0m \u001b[38;5;28;43mself\u001b[39;49m\u001b[38;5;241;43m.\u001b[39;49m\u001b[43m_condition\u001b[49m\u001b[38;5;241;43m.\u001b[39;49m\u001b[43mwait\u001b[49m\u001b[43m(\u001b[49m\u001b[43mtimeout\u001b[49m\u001b[43m)\u001b[49m\n\u001b[0;32m    455\u001b[0m \u001b[38;5;28;01mif\u001b[39;00m \u001b[38;5;28mself\u001b[39m\u001b[38;5;241m.\u001b[39m_state \u001b[38;5;129;01min\u001b[39;00m [CANCELLED, CANCELLED_AND_NOTIFIED]:\n",
      "File \u001b[1;32m~\\AppData\\Local\\Programs\\Python\\Python310\\lib\\threading.py:320\u001b[0m, in \u001b[0;36mCondition.wait\u001b[1;34m(self, timeout)\u001b[0m\n\u001b[0;32m    319\u001b[0m \u001b[38;5;28;01mif\u001b[39;00m timeout \u001b[38;5;129;01mis\u001b[39;00m \u001b[38;5;28;01mNone\u001b[39;00m:\n\u001b[1;32m--> 320\u001b[0m     \u001b[43mwaiter\u001b[49m\u001b[38;5;241;43m.\u001b[39;49m\u001b[43macquire\u001b[49m\u001b[43m(\u001b[49m\u001b[43m)\u001b[49m\n\u001b[0;32m    321\u001b[0m     gotit \u001b[38;5;241m=\u001b[39m \u001b[38;5;28;01mTrue\u001b[39;00m\n",
      "\u001b[1;31mKeyboardInterrupt\u001b[0m: ",
      "\nDuring handling of the above exception, another exception occurred:\n",
      "\u001b[1;31mKeyboardInterrupt\u001b[0m                         Traceback (most recent call last)",
      "Cell \u001b[1;32mIn[6], line 2\u001b[0m\n\u001b[0;32m      1\u001b[0m L \u001b[38;5;241m=\u001b[39m [\u001b[38;5;124m'\u001b[39m\u001b[38;5;124m2018\u001b[39m\u001b[38;5;124m'\u001b[39m, \u001b[38;5;124m'\u001b[39m\u001b[38;5;124m2019\u001b[39m\u001b[38;5;124m'\u001b[39m, \u001b[38;5;124m'\u001b[39m\u001b[38;5;124m2020\u001b[39m\u001b[38;5;124m'\u001b[39m]\n\u001b[1;32m----> 2\u001b[0m df \u001b[38;5;241m=\u001b[39m \u001b[43mscrape_multiple_years\u001b[49m\u001b[43m(\u001b[49m\u001b[43mL\u001b[49m\u001b[43m,\u001b[49m\u001b[43m \u001b[49m\u001b[38;5;124;43m'\u001b[39;49m\u001b[38;5;124;43m../data/datasets/csv_files/\u001b[39;49m\u001b[38;5;124;43m'\u001b[39;49m\u001b[43m)\u001b[49m\n",
      "File \u001b[1;32mc:\\users\\mk_ya\\desktop\\ift6758-projet\\src\\data\\scrape.py:125\u001b[0m, in \u001b[0;36mscrape_multiple_years\u001b[1;34m(years, output_file)\u001b[0m\n\u001b[0;32m    122\u001b[0m df_1 \u001b[38;5;241m=\u001b[39m pd\u001b[38;5;241m.\u001b[39mDataFrame()\n\u001b[0;32m    124\u001b[0m \u001b[38;5;28;01mfor\u001b[39;00m year \u001b[38;5;129;01min\u001b[39;00m years :\n\u001b[1;32m--> 125\u001b[0m     df_1 \u001b[38;5;241m=\u001b[39m \u001b[43mscrape_games_by_year\u001b[49m\u001b[43m(\u001b[49m\u001b[38;5;28;43mstr\u001b[39;49m\u001b[43m(\u001b[49m\u001b[43myear\u001b[49m\u001b[43m)\u001b[49m\u001b[43m,\u001b[49m\u001b[43m \u001b[49m\u001b[43moutput_file\u001b[49m\u001b[43m)\u001b[49m\n\u001b[0;32m    126\u001b[0m     df \u001b[38;5;241m=\u001b[39m pd\u001b[38;5;241m.\u001b[39mconcat([df,df_1], ignore_index \u001b[38;5;241m=\u001b[39m \u001b[38;5;28;01mTrue\u001b[39;00m)\n\u001b[0;32m    128\u001b[0m \u001b[38;5;66;03m# Libération de la mémoire\u001b[39;00m\n",
      "File \u001b[1;32mc:\\users\\mk_ya\\desktop\\ift6758-projet\\src\\data\\scrape.py:86\u001b[0m, in \u001b[0;36mscrape_games_by_year\u001b[1;34m(year, data_dir)\u001b[0m\n\u001b[0;32m     82\u001b[0m rows \u001b[38;5;241m=\u001b[39m []\n\u001b[0;32m     84\u001b[0m \u001b[38;5;66;03m# Scrape data using multi-threading\u001b[39;00m\n\u001b[0;32m     85\u001b[0m \u001b[38;5;66;03m# Reference: https://superfastpython.com/threadpoolexecutor-map/\u001b[39;00m\n\u001b[1;32m---> 86\u001b[0m \u001b[38;5;28;01mwith\u001b[39;00m ThreadPoolExecutor(max_workers\u001b[38;5;241m=\u001b[39m\u001b[38;5;241m10\u001b[39m) \u001b[38;5;28;01mas\u001b[39;00m executor:\n\u001b[0;32m     87\u001b[0m     results \u001b[38;5;241m=\u001b[39m \u001b[38;5;28mlist\u001b[39m(tqdm(executor\u001b[38;5;241m.\u001b[39mmap(fetch_game_data, generator), total\u001b[38;5;241m=\u001b[39mtotal_games, desc\u001b[38;5;241m=\u001b[39m\u001b[38;5;124m\"\u001b[39m\u001b[38;5;124mScraping\u001b[39m\u001b[38;5;124m\"\u001b[39m, unit\u001b[38;5;241m=\u001b[39m\u001b[38;5;124m\"\u001b[39m\u001b[38;5;124mgame\u001b[39m\u001b[38;5;124m\"\u001b[39m))\n\u001b[0;32m     89\u001b[0m \u001b[38;5;66;03m# Filter out None results\u001b[39;00m\n",
      "File \u001b[1;32m~\\AppData\\Local\\Programs\\Python\\Python310\\lib\\concurrent\\futures\\_base.py:649\u001b[0m, in \u001b[0;36mExecutor.__exit__\u001b[1;34m(self, exc_type, exc_val, exc_tb)\u001b[0m\n\u001b[0;32m    648\u001b[0m \u001b[38;5;28;01mdef\u001b[39;00m \u001b[38;5;21m__exit__\u001b[39m(\u001b[38;5;28mself\u001b[39m, exc_type, exc_val, exc_tb):\n\u001b[1;32m--> 649\u001b[0m     \u001b[38;5;28;43mself\u001b[39;49m\u001b[38;5;241;43m.\u001b[39;49m\u001b[43mshutdown\u001b[49m\u001b[43m(\u001b[49m\u001b[43mwait\u001b[49m\u001b[38;5;241;43m=\u001b[39;49m\u001b[38;5;28;43;01mTrue\u001b[39;49;00m\u001b[43m)\u001b[49m\n\u001b[0;32m    650\u001b[0m     \u001b[38;5;28;01mreturn\u001b[39;00m \u001b[38;5;28;01mFalse\u001b[39;00m\n",
      "File \u001b[1;32m~\\AppData\\Local\\Programs\\Python\\Python310\\lib\\concurrent\\futures\\thread.py:235\u001b[0m, in \u001b[0;36mThreadPoolExecutor.shutdown\u001b[1;34m(self, wait, cancel_futures)\u001b[0m\n\u001b[0;32m    233\u001b[0m \u001b[38;5;28;01mif\u001b[39;00m wait:\n\u001b[0;32m    234\u001b[0m     \u001b[38;5;28;01mfor\u001b[39;00m t \u001b[38;5;129;01min\u001b[39;00m \u001b[38;5;28mself\u001b[39m\u001b[38;5;241m.\u001b[39m_threads:\n\u001b[1;32m--> 235\u001b[0m         \u001b[43mt\u001b[49m\u001b[38;5;241;43m.\u001b[39;49m\u001b[43mjoin\u001b[49m\u001b[43m(\u001b[49m\u001b[43m)\u001b[49m\n",
      "File \u001b[1;32m~\\AppData\\Local\\Programs\\Python\\Python310\\lib\\threading.py:1096\u001b[0m, in \u001b[0;36mThread.join\u001b[1;34m(self, timeout)\u001b[0m\n\u001b[0;32m   1093\u001b[0m     \u001b[38;5;28;01mraise\u001b[39;00m \u001b[38;5;167;01mRuntimeError\u001b[39;00m(\u001b[38;5;124m\"\u001b[39m\u001b[38;5;124mcannot join current thread\u001b[39m\u001b[38;5;124m\"\u001b[39m)\n\u001b[0;32m   1095\u001b[0m \u001b[38;5;28;01mif\u001b[39;00m timeout \u001b[38;5;129;01mis\u001b[39;00m \u001b[38;5;28;01mNone\u001b[39;00m:\n\u001b[1;32m-> 1096\u001b[0m     \u001b[38;5;28;43mself\u001b[39;49m\u001b[38;5;241;43m.\u001b[39;49m\u001b[43m_wait_for_tstate_lock\u001b[49m\u001b[43m(\u001b[49m\u001b[43m)\u001b[49m\n\u001b[0;32m   1097\u001b[0m \u001b[38;5;28;01melse\u001b[39;00m:\n\u001b[0;32m   1098\u001b[0m     \u001b[38;5;66;03m# the behavior of a negative timeout isn't documented, but\u001b[39;00m\n\u001b[0;32m   1099\u001b[0m     \u001b[38;5;66;03m# historically .join(timeout=x) for x<0 has acted as if timeout=0\u001b[39;00m\n\u001b[0;32m   1100\u001b[0m     \u001b[38;5;28mself\u001b[39m\u001b[38;5;241m.\u001b[39m_wait_for_tstate_lock(timeout\u001b[38;5;241m=\u001b[39m\u001b[38;5;28mmax\u001b[39m(timeout, \u001b[38;5;241m0\u001b[39m))\n",
      "File \u001b[1;32m~\\AppData\\Local\\Programs\\Python\\Python310\\lib\\threading.py:1116\u001b[0m, in \u001b[0;36mThread._wait_for_tstate_lock\u001b[1;34m(self, block, timeout)\u001b[0m\n\u001b[0;32m   1113\u001b[0m     \u001b[38;5;28;01mreturn\u001b[39;00m\n\u001b[0;32m   1115\u001b[0m \u001b[38;5;28;01mtry\u001b[39;00m:\n\u001b[1;32m-> 1116\u001b[0m     \u001b[38;5;28;01mif\u001b[39;00m \u001b[43mlock\u001b[49m\u001b[38;5;241;43m.\u001b[39;49m\u001b[43macquire\u001b[49m\u001b[43m(\u001b[49m\u001b[43mblock\u001b[49m\u001b[43m,\u001b[49m\u001b[43m \u001b[49m\u001b[43mtimeout\u001b[49m\u001b[43m)\u001b[49m:\n\u001b[0;32m   1117\u001b[0m         lock\u001b[38;5;241m.\u001b[39mrelease()\n\u001b[0;32m   1118\u001b[0m         \u001b[38;5;28mself\u001b[39m\u001b[38;5;241m.\u001b[39m_stop()\n",
      "\u001b[1;31mKeyboardInterrupt\u001b[0m: "
     ]
    }
   ],
   "source": [
    "L = ['2018', '2019', '2020']\n",
    "df = scrape_multiple_years(L, '../data/datasets/csv_files/')"
   ]
  },
  {
   "cell_type": "code",
   "execution_count": null,
   "id": "10f96a71-b725-49f4-a602-a61af06bdd47",
   "metadata": {},
   "outputs": [
    {
     "name": "stdout",
     "output_type": "stream",
     "text": [
      "Data doesn't exist in cache, scraping data for the year 2018\n"
     ]
    },
    {
     "name": "stderr",
     "output_type": "stream",
     "text": [
      "Scraping:   2%|██▋                                                                                                                                    | 27/1376 [00:02<01:56, 11.53game/s]\n"
     ]
    }
   ],
   "source": [
    "scrape_games_by_year('2018')"
   ]
  },
  {
   "cell_type": "code",
   "execution_count": 3,
   "id": "ee31498b",
   "metadata": {
    "scrolled": true
   },
   "outputs": [
    {
     "data": {
      "text/html": [
       "<div>\n",
       "<style scoped>\n",
       "    .dataframe tbody tr th:only-of-type {\n",
       "        vertical-align: middle;\n",
       "    }\n",
       "\n",
       "    .dataframe tbody tr th {\n",
       "        vertical-align: top;\n",
       "    }\n",
       "\n",
       "    .dataframe thead th {\n",
       "        text-align: right;\n",
       "    }\n",
       "</style>\n",
       "<table border=\"1\" class=\"dataframe\">\n",
       "  <thead>\n",
       "    <tr style=\"text-align: right;\">\n",
       "      <th></th>\n",
       "      <th>copyright</th>\n",
       "      <th>gamePk</th>\n",
       "      <th>link</th>\n",
       "      <th>metaData</th>\n",
       "      <th>gameData</th>\n",
       "      <th>liveData</th>\n",
       "    </tr>\n",
       "  </thead>\n",
       "  <tbody>\n",
       "    <tr>\n",
       "      <th>2705</th>\n",
       "      <td>NHL and the NHL Shield are registered trademar...</td>\n",
       "      <td>2019030213</td>\n",
       "      <td>/api/v1/game/2019030213/feed/live</td>\n",
       "      <td>{'wait': 10, 'timeStamp': '20200830_120856'}</td>\n",
       "      <td>{'game': {'pk': 2019030213, 'season': '2019202...</td>\n",
       "      <td>{'plays': {'allPlays': [{'result': {'event': '...</td>\n",
       "    </tr>\n",
       "    <tr>\n",
       "      <th>3268</th>\n",
       "      <td>NHL and the NHL Shield are registered trademar...</td>\n",
       "      <td>2020020517</td>\n",
       "      <td>/api/v1/game/2020020517/feed/live</td>\n",
       "      <td>{'wait': 10, 'timeStamp': '20210723_041509'}</td>\n",
       "      <td>{'game': {'pk': 2020020517, 'season': '2020202...</td>\n",
       "      <td>{'plays': {'allPlays': [{'result': {'event': '...</td>\n",
       "    </tr>\n",
       "    <tr>\n",
       "      <th>2761</th>\n",
       "      <td>NHL and the NHL Shield are registered trademar...</td>\n",
       "      <td>2020020010</td>\n",
       "      <td>/api/v1/game/2020020010/feed/live</td>\n",
       "      <td>{'wait': 10, 'timeStamp': '20210116_194027'}</td>\n",
       "      <td>{'game': {'pk': 2020020010, 'season': '2020202...</td>\n",
       "      <td>{'plays': {'allPlays': [{'result': {'event': '...</td>\n",
       "    </tr>\n",
       "    <tr>\n",
       "      <th>400</th>\n",
       "      <td>NHL and the NHL Shield are registered trademar...</td>\n",
       "      <td>2018020401</td>\n",
       "      <td>/api/v1/game/2018020401/feed/live</td>\n",
       "      <td>{'wait': 10, 'timeStamp': '20181204_194305'}</td>\n",
       "      <td>{'game': {'pk': 2018020401, 'season': '2018201...</td>\n",
       "      <td>{'plays': {'allPlays': [{'result': {'event': '...</td>\n",
       "    </tr>\n",
       "    <tr>\n",
       "      <th>1635</th>\n",
       "      <td>NHL and the NHL Shield are registered trademar...</td>\n",
       "      <td>2019020260</td>\n",
       "      <td>/api/v1/game/2019020260/feed/live</td>\n",
       "      <td>{'wait': 10, 'timeStamp': '20191113_222537'}</td>\n",
       "      <td>{'game': {'pk': 2019020260, 'season': '2019202...</td>\n",
       "      <td>{'plays': {'allPlays': [{'result': {'event': '...</td>\n",
       "    </tr>\n",
       "    <tr>\n",
       "      <th>2814</th>\n",
       "      <td>NHL and the NHL Shield are registered trademar...</td>\n",
       "      <td>2020020063</td>\n",
       "      <td>/api/v1/game/2020020063/feed/live</td>\n",
       "      <td>{'wait': 10, 'timeStamp': '20210125_155317'}</td>\n",
       "      <td>{'game': {'pk': 2020020063, 'season': '2020202...</td>\n",
       "      <td>{'plays': {'allPlays': [{'result': {'event': '...</td>\n",
       "    </tr>\n",
       "    <tr>\n",
       "      <th>284</th>\n",
       "      <td>NHL and the NHL Shield are registered trademar...</td>\n",
       "      <td>2018020285</td>\n",
       "      <td>/api/v1/game/2018020285/feed/live</td>\n",
       "      <td>{'wait': 10, 'timeStamp': '20181119_190525'}</td>\n",
       "      <td>{'game': {'pk': 2018020285, 'season': '2018201...</td>\n",
       "      <td>{'plays': {'allPlays': [{'result': {'event': '...</td>\n",
       "    </tr>\n",
       "    <tr>\n",
       "      <th>2223</th>\n",
       "      <td>NHL and the NHL Shield are registered trademar...</td>\n",
       "      <td>2019020848</td>\n",
       "      <td>/api/v1/game/2019020848/feed/live</td>\n",
       "      <td>{'wait': 10, 'timeStamp': '20200209_023532'}</td>\n",
       "      <td>{'game': {'pk': 2019020848, 'season': '2019202...</td>\n",
       "      <td>{'plays': {'allPlays': [{'result': {'event': '...</td>\n",
       "    </tr>\n",
       "    <tr>\n",
       "      <th>2399</th>\n",
       "      <td>NHL and the NHL Shield are registered trademar...</td>\n",
       "      <td>2019021024</td>\n",
       "      <td>/api/v1/game/2019021024/feed/live</td>\n",
       "      <td>{'wait': 10, 'timeStamp': '20200304_033957'}</td>\n",
       "      <td>{'game': {'pk': 2019021024, 'season': '2019202...</td>\n",
       "      <td>{'plays': {'allPlays': [{'result': {'event': '...</td>\n",
       "    </tr>\n",
       "    <tr>\n",
       "      <th>103</th>\n",
       "      <td>NHL and the NHL Shield are registered trademar...</td>\n",
       "      <td>2018020104</td>\n",
       "      <td>/api/v1/game/2018020104/feed/live</td>\n",
       "      <td>{'wait': 10, 'timeStamp': '20181022_170438'}</td>\n",
       "      <td>{'game': {'pk': 2018020104, 'season': '2018201...</td>\n",
       "      <td>{'plays': {'allPlays': [{'result': {'event': '...</td>\n",
       "    </tr>\n",
       "  </tbody>\n",
       "</table>\n",
       "</div>"
      ],
      "text/plain": [
       "                                              copyright      gamePk  \\\n",
       "2705  NHL and the NHL Shield are registered trademar...  2019030213   \n",
       "3268  NHL and the NHL Shield are registered trademar...  2020020517   \n",
       "2761  NHL and the NHL Shield are registered trademar...  2020020010   \n",
       "400   NHL and the NHL Shield are registered trademar...  2018020401   \n",
       "1635  NHL and the NHL Shield are registered trademar...  2019020260   \n",
       "2814  NHL and the NHL Shield are registered trademar...  2020020063   \n",
       "284   NHL and the NHL Shield are registered trademar...  2018020285   \n",
       "2223  NHL and the NHL Shield are registered trademar...  2019020848   \n",
       "2399  NHL and the NHL Shield are registered trademar...  2019021024   \n",
       "103   NHL and the NHL Shield are registered trademar...  2018020104   \n",
       "\n",
       "                                   link  \\\n",
       "2705  /api/v1/game/2019030213/feed/live   \n",
       "3268  /api/v1/game/2020020517/feed/live   \n",
       "2761  /api/v1/game/2020020010/feed/live   \n",
       "400   /api/v1/game/2018020401/feed/live   \n",
       "1635  /api/v1/game/2019020260/feed/live   \n",
       "2814  /api/v1/game/2020020063/feed/live   \n",
       "284   /api/v1/game/2018020285/feed/live   \n",
       "2223  /api/v1/game/2019020848/feed/live   \n",
       "2399  /api/v1/game/2019021024/feed/live   \n",
       "103   /api/v1/game/2018020104/feed/live   \n",
       "\n",
       "                                          metaData  \\\n",
       "2705  {'wait': 10, 'timeStamp': '20200830_120856'}   \n",
       "3268  {'wait': 10, 'timeStamp': '20210723_041509'}   \n",
       "2761  {'wait': 10, 'timeStamp': '20210116_194027'}   \n",
       "400   {'wait': 10, 'timeStamp': '20181204_194305'}   \n",
       "1635  {'wait': 10, 'timeStamp': '20191113_222537'}   \n",
       "2814  {'wait': 10, 'timeStamp': '20210125_155317'}   \n",
       "284   {'wait': 10, 'timeStamp': '20181119_190525'}   \n",
       "2223  {'wait': 10, 'timeStamp': '20200209_023532'}   \n",
       "2399  {'wait': 10, 'timeStamp': '20200304_033957'}   \n",
       "103   {'wait': 10, 'timeStamp': '20181022_170438'}   \n",
       "\n",
       "                                               gameData  \\\n",
       "2705  {'game': {'pk': 2019030213, 'season': '2019202...   \n",
       "3268  {'game': {'pk': 2020020517, 'season': '2020202...   \n",
       "2761  {'game': {'pk': 2020020010, 'season': '2020202...   \n",
       "400   {'game': {'pk': 2018020401, 'season': '2018201...   \n",
       "1635  {'game': {'pk': 2019020260, 'season': '2019202...   \n",
       "2814  {'game': {'pk': 2020020063, 'season': '2020202...   \n",
       "284   {'game': {'pk': 2018020285, 'season': '2018201...   \n",
       "2223  {'game': {'pk': 2019020848, 'season': '2019202...   \n",
       "2399  {'game': {'pk': 2019021024, 'season': '2019202...   \n",
       "103   {'game': {'pk': 2018020104, 'season': '2018201...   \n",
       "\n",
       "                                               liveData  \n",
       "2705  {'plays': {'allPlays': [{'result': {'event': '...  \n",
       "3268  {'plays': {'allPlays': [{'result': {'event': '...  \n",
       "2761  {'plays': {'allPlays': [{'result': {'event': '...  \n",
       "400   {'plays': {'allPlays': [{'result': {'event': '...  \n",
       "1635  {'plays': {'allPlays': [{'result': {'event': '...  \n",
       "2814  {'plays': {'allPlays': [{'result': {'event': '...  \n",
       "284   {'plays': {'allPlays': [{'result': {'event': '...  \n",
       "2223  {'plays': {'allPlays': [{'result': {'event': '...  \n",
       "2399  {'plays': {'allPlays': [{'result': {'event': '...  \n",
       "103   {'plays': {'allPlays': [{'result': {'event': '...  "
      ]
     },
     "execution_count": 3,
     "metadata": {},
     "output_type": "execute_result"
    }
   ],
   "source": [
    "df.sample(10)"
   ]
  },
  {
   "cell_type": "code",
   "execution_count": 4,
   "id": "dca9e52a-7155-4ab4-8495-874edd915e93",
   "metadata": {},
   "outputs": [],
   "source": [
    "file = './img/terrain_hockey.png'\n",
    "logo = image.imread(file)"
   ]
  },
  {
   "cell_type": "code",
   "execution_count": 24,
   "id": "98a86479",
   "metadata": {},
   "outputs": [
    {
     "data": {
      "application/vnd.jupyter.widget-view+json": {
       "model_id": "632a277e20594a6e9966b583a18b729e",
       "version_major": 2,
       "version_minor": 0
      },
      "text/plain": [
       "interactive(children=(IntSlider(value=1, description='gameId', max=3725, min=1), Output()), _dom_classes=('wid…"
      ]
     },
     "metadata": {},
     "output_type": "display_data"
    }
   ],
   "source": [
    "@widgets.interact(gameId=(1, df.shape[0]))\n",
    "def gameId_plays(gameId=1):\n",
    "    \n",
    "    print(f\"{df['gameData'][gameId]['datetime']}\\n\")\n",
    "    print(f\"Game ID: {gameId}; {df['gameData'][gameId]['teams']['home']['name']} (home) vs {df['gameData'][gameId]['teams']['away']['name']} (away)\\n\")\n",
    "    \n",
    "    try:\n",
    "        @widgets.interact(plays_num=(1, len(df['liveData'][gameId]['plays']['allPlays']) - 1))\n",
    "        def data_game(plays_num=1):\n",
    "            \n",
    "            plt.imshow(logo, extent=[-100, 100, -42.5, 42.5])\n",
    "            try:\n",
    "                x = df['liveData'][gameId]['plays']['allPlays'][plays_num]['coordinates']['x']\n",
    "                y = df['liveData'][gameId]['plays']['allPlays'][plays_num]['coordinates']['y']\n",
    "                \n",
    "                plt.xlim(-100, 100)\n",
    "                plt.ylim(-42.5, 42.5)\n",
    "                plt.scatter(x, y, c='green')\n",
    "                \n",
    "                props = dict(boxstyle='round', facecolor='green', alpha=0.6)\n",
    "\n",
    "                plt.text(x - 10, y + 10, df['liveData'][gameId]['plays']['allPlays'][plays_num]['result']['eventTypeId'], fontsize=10, \n",
    "                        verticalalignment='top', bbox=props)\n",
    "\n",
    "\n",
    "                print('About :', df['liveData'][gameId]['plays']['allPlays'][plays_num]['about'])\n",
    "                print('\\nCoordinates :', df['liveData'][gameId]['plays']['allPlays'][plays_num]['coordinates'])\n",
    "                print('\\nPlayers :', df['liveData'][gameId]['plays']['allPlays'][plays_num]['players'])\n",
    "                print('\\nResult :', df['liveData'][gameId]['plays']['allPlays'][plays_num]['result'])\n",
    "                print('\\nTeam :', df['liveData'][gameId]['plays']['allPlays'][plays_num]['team'])\n",
    "\n",
    "                print(f\"\\n Description of event: {df['liveData'][gameId]['plays']['allPlays'][plays_num]['result']['description']}\")\n",
    "\n",
    "            except:\n",
    "                pass\n",
    "    except:\n",
    "        print(f'Game Id {gameId} is not correct')"
   ]
  },
  {
   "cell_type": "code",
   "execution_count": null,
   "id": "332d3949-0d2d-4c37-aaf0-5b53c8a87c25",
   "metadata": {},
   "outputs": [],
   "source": []
  }
 ],
 "metadata": {
  "kernelspec": {
   "display_name": "Python 3 (ipykernel)",
   "language": "python",
   "name": "python3"
  },
  "language_info": {
   "codemirror_mode": {
    "name": "ipython",
    "version": 3
   },
   "file_extension": ".py",
   "mimetype": "text/x-python",
   "name": "python",
   "nbconvert_exporter": "python",
   "pygments_lexer": "ipython3",
   "version": "3.10.11"
  }
 },
 "nbformat": 4,
 "nbformat_minor": 5
}
